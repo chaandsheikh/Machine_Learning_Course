{
 "cells": [
  {
   "cell_type": "markdown",
   "metadata": {},
   "source": [
    "# Import data"
   ]
  },
  {
   "cell_type": "code",
   "execution_count": 47,
   "metadata": {},
   "outputs": [],
   "source": [
    "import pandas as pd "
   ]
  },
  {
   "cell_type": "code",
   "execution_count": 48,
   "metadata": {},
   "outputs": [],
   "source": [
    "data = pd.read_csv('weatherAUS.csv')"
   ]
  },
  {
   "cell_type": "code",
   "execution_count": 49,
   "metadata": {},
   "outputs": [
    {
     "name": "stdout",
     "output_type": "stream",
     "text": [
      "              Date Location  MinTemp  MaxTemp  Rainfall  Evaporation  \\\n",
      "0       2008-12-01   Albury     13.4     22.9       0.6          NaN   \n",
      "1       2008-12-02   Albury      7.4     25.1       0.0          NaN   \n",
      "2       2008-12-03   Albury     12.9     25.7       0.0          NaN   \n",
      "3       2008-12-04   Albury      9.2     28.0       0.0          NaN   \n",
      "4       2008-12-05   Albury     17.5     32.3       1.0          NaN   \n",
      "...            ...      ...      ...      ...       ...          ...   \n",
      "142188  2017-06-20    Uluru      3.5     21.8       0.0          NaN   \n",
      "142189  2017-06-21    Uluru      2.8     23.4       0.0          NaN   \n",
      "142190  2017-06-22    Uluru      3.6     25.3       0.0          NaN   \n",
      "142191  2017-06-23    Uluru      5.4     26.9       0.0          NaN   \n",
      "142192  2017-06-24    Uluru      7.8     27.0       0.0          NaN   \n",
      "\n",
      "        Sunshine WindGustDir  WindGustSpeed WindDir9am  ... Humidity3pm  \\\n",
      "0            NaN           W           44.0          W  ...        22.0   \n",
      "1            NaN         WNW           44.0        NNW  ...        25.0   \n",
      "2            NaN         WSW           46.0          W  ...        30.0   \n",
      "3            NaN          NE           24.0         SE  ...        16.0   \n",
      "4            NaN           W           41.0        ENE  ...        33.0   \n",
      "...          ...         ...            ...        ...  ...         ...   \n",
      "142188       NaN           E           31.0        ESE  ...        27.0   \n",
      "142189       NaN           E           31.0         SE  ...        24.0   \n",
      "142190       NaN         NNW           22.0         SE  ...        21.0   \n",
      "142191       NaN           N           37.0         SE  ...        24.0   \n",
      "142192       NaN          SE           28.0        SSE  ...        24.0   \n",
      "\n",
      "        Pressure9am  Pressure3pm  Cloud9am  Cloud3pm  Temp9am  Temp3pm  \\\n",
      "0            1007.7       1007.1       8.0       NaN     16.9     21.8   \n",
      "1            1010.6       1007.8       NaN       NaN     17.2     24.3   \n",
      "2            1007.6       1008.7       NaN       2.0     21.0     23.2   \n",
      "3            1017.6       1012.8       NaN       NaN     18.1     26.5   \n",
      "4            1010.8       1006.0       7.0       8.0     17.8     29.7   \n",
      "...             ...          ...       ...       ...      ...      ...   \n",
      "142188       1024.7       1021.2       NaN       NaN      9.4     20.9   \n",
      "142189       1024.6       1020.3       NaN       NaN     10.1     22.4   \n",
      "142190       1023.5       1019.1       NaN       NaN     10.9     24.5   \n",
      "142191       1021.0       1016.8       NaN       NaN     12.5     26.1   \n",
      "142192       1019.4       1016.5       3.0       2.0     15.1     26.0   \n",
      "\n",
      "        RainToday  RISK_MM  RainTomorrow  \n",
      "0              No      0.0            No  \n",
      "1              No      0.0            No  \n",
      "2              No      0.0            No  \n",
      "3              No      1.0            No  \n",
      "4              No      0.2            No  \n",
      "...           ...      ...           ...  \n",
      "142188         No      0.0            No  \n",
      "142189         No      0.0            No  \n",
      "142190         No      0.0            No  \n",
      "142191         No      0.0            No  \n",
      "142192         No      0.0            No  \n",
      "\n",
      "[142193 rows x 24 columns]\n"
     ]
    }
   ],
   "source": [
    "print(data)"
   ]
  },
  {
   "cell_type": "code",
   "execution_count": 50,
   "metadata": {},
   "outputs": [],
   "source": [
    "X = data.iloc[:,:-1]"
   ]
  },
  {
   "cell_type": "code",
   "execution_count": 51,
   "metadata": {},
   "outputs": [
    {
     "name": "stdout",
     "output_type": "stream",
     "text": [
      "              Date Location  MinTemp  MaxTemp  Rainfall  Evaporation  \\\n",
      "0       2008-12-01   Albury     13.4     22.9       0.6          NaN   \n",
      "1       2008-12-02   Albury      7.4     25.1       0.0          NaN   \n",
      "2       2008-12-03   Albury     12.9     25.7       0.0          NaN   \n",
      "3       2008-12-04   Albury      9.2     28.0       0.0          NaN   \n",
      "4       2008-12-05   Albury     17.5     32.3       1.0          NaN   \n",
      "...            ...      ...      ...      ...       ...          ...   \n",
      "142188  2017-06-20    Uluru      3.5     21.8       0.0          NaN   \n",
      "142189  2017-06-21    Uluru      2.8     23.4       0.0          NaN   \n",
      "142190  2017-06-22    Uluru      3.6     25.3       0.0          NaN   \n",
      "142191  2017-06-23    Uluru      5.4     26.9       0.0          NaN   \n",
      "142192  2017-06-24    Uluru      7.8     27.0       0.0          NaN   \n",
      "\n",
      "        Sunshine WindGustDir  WindGustSpeed WindDir9am  ... Humidity9am  \\\n",
      "0            NaN           W           44.0          W  ...        71.0   \n",
      "1            NaN         WNW           44.0        NNW  ...        44.0   \n",
      "2            NaN         WSW           46.0          W  ...        38.0   \n",
      "3            NaN          NE           24.0         SE  ...        45.0   \n",
      "4            NaN           W           41.0        ENE  ...        82.0   \n",
      "...          ...         ...            ...        ...  ...         ...   \n",
      "142188       NaN           E           31.0        ESE  ...        59.0   \n",
      "142189       NaN           E           31.0         SE  ...        51.0   \n",
      "142190       NaN         NNW           22.0         SE  ...        56.0   \n",
      "142191       NaN           N           37.0         SE  ...        53.0   \n",
      "142192       NaN          SE           28.0        SSE  ...        51.0   \n",
      "\n",
      "        Humidity3pm  Pressure9am  Pressure3pm  Cloud9am  Cloud3pm  Temp9am  \\\n",
      "0              22.0       1007.7       1007.1       8.0       NaN     16.9   \n",
      "1              25.0       1010.6       1007.8       NaN       NaN     17.2   \n",
      "2              30.0       1007.6       1008.7       NaN       2.0     21.0   \n",
      "3              16.0       1017.6       1012.8       NaN       NaN     18.1   \n",
      "4              33.0       1010.8       1006.0       7.0       8.0     17.8   \n",
      "...             ...          ...          ...       ...       ...      ...   \n",
      "142188         27.0       1024.7       1021.2       NaN       NaN      9.4   \n",
      "142189         24.0       1024.6       1020.3       NaN       NaN     10.1   \n",
      "142190         21.0       1023.5       1019.1       NaN       NaN     10.9   \n",
      "142191         24.0       1021.0       1016.8       NaN       NaN     12.5   \n",
      "142192         24.0       1019.4       1016.5       3.0       2.0     15.1   \n",
      "\n",
      "        Temp3pm  RainToday  RISK_MM  \n",
      "0          21.8         No      0.0  \n",
      "1          24.3         No      0.0  \n",
      "2          23.2         No      0.0  \n",
      "3          26.5         No      1.0  \n",
      "4          29.7         No      0.2  \n",
      "...         ...        ...      ...  \n",
      "142188     20.9         No      0.0  \n",
      "142189     22.4         No      0.0  \n",
      "142190     24.5         No      0.0  \n",
      "142191     26.1         No      0.0  \n",
      "142192     26.0         No      0.0  \n",
      "\n",
      "[142193 rows x 23 columns]\n"
     ]
    }
   ],
   "source": [
    "print(X)"
   ]
  },
  {
   "cell_type": "code",
   "execution_count": 52,
   "metadata": {},
   "outputs": [],
   "source": [
    "Y = data.iloc[:,-1]"
   ]
  },
  {
   "cell_type": "code",
   "execution_count": 53,
   "metadata": {},
   "outputs": [
    {
     "name": "stdout",
     "output_type": "stream",
     "text": [
      "0         No\n",
      "1         No\n",
      "2         No\n",
      "3         No\n",
      "4         No\n",
      "          ..\n",
      "142188    No\n",
      "142189    No\n",
      "142190    No\n",
      "142191    No\n",
      "142192    No\n",
      "Name: RainTomorrow, Length: 142193, dtype: object\n"
     ]
    }
   ],
   "source": [
    "print(Y)"
   ]
  },
  {
   "cell_type": "markdown",
   "metadata": {},
   "source": [
    "# Handling missing data"
   ]
  },
  {
   "cell_type": "code",
   "execution_count": 54,
   "metadata": {},
   "outputs": [],
   "source": [
    "import numpy as np\n",
    "from sklearn.impute import SimpleImputer\n",
    "imp_mean = SimpleImputer(missing_values=np.nan, strategy='mean')"
   ]
  },
  {
   "cell_type": "code",
   "execution_count": 55,
   "metadata": {},
   "outputs": [],
   "source": [
    "numerical_cols = [2,3,4,5,6,8,11,12,13,14,15,16,17,18,19,20]"
   ]
  },
  {
   "cell_type": "code",
   "execution_count": 56,
   "metadata": {},
   "outputs": [],
   "source": [
    "#print(X)"
   ]
  },
  {
   "cell_type": "code",
   "execution_count": 57,
   "metadata": {},
   "outputs": [
    {
     "data": {
      "text/plain": [
       "SimpleImputer()"
      ]
     },
     "execution_count": 57,
     "metadata": {},
     "output_type": "execute_result"
    }
   ],
   "source": [
    "imp_mean.fit(X.iloc[:,numerical_cols])"
   ]
  },
  {
   "cell_type": "code",
   "execution_count": 58,
   "metadata": {},
   "outputs": [],
   "source": [
    "X.iloc[:,numerical_cols] = imp_mean.transform(X.iloc[:,numerical_cols])"
   ]
  },
  {
   "cell_type": "markdown",
   "metadata": {},
   "source": [
    "### Handling missing string data"
   ]
  },
  {
   "cell_type": "code",
   "execution_count": 59,
   "metadata": {},
   "outputs": [],
   "source": [
    "string_cols = [1,7,9,10,21]"
   ]
  },
  {
   "cell_type": "code",
   "execution_count": 60,
   "metadata": {},
   "outputs": [],
   "source": [
    "imp_mean = SimpleImputer(missing_values=np.nan, strategy='most_frequent')"
   ]
  },
  {
   "cell_type": "code",
   "execution_count": 61,
   "metadata": {},
   "outputs": [
    {
     "data": {
      "text/plain": [
       "SimpleImputer(strategy='most_frequent')"
      ]
     },
     "execution_count": 61,
     "metadata": {},
     "output_type": "execute_result"
    }
   ],
   "source": [
    "imp_mean.fit(X.iloc[:,string_cols])"
   ]
  },
  {
   "cell_type": "code",
   "execution_count": 62,
   "metadata": {},
   "outputs": [],
   "source": [
    "X.iloc[:,string_cols] = imp_mean.transform(X.iloc[:,string_cols])"
   ]
  },
  {
   "cell_type": "code",
   "execution_count": null,
   "metadata": {},
   "outputs": [],
   "source": []
  },
  {
   "cell_type": "code",
   "execution_count": null,
   "metadata": {},
   "outputs": [],
   "source": []
  },
  {
   "cell_type": "markdown",
   "metadata": {},
   "source": [
    "# Feature selection"
   ]
  },
  {
   "cell_type": "code",
   "execution_count": 63,
   "metadata": {},
   "outputs": [],
   "source": [
    "X.drop('RISK_MM', axis=1, inplace=True)"
   ]
  },
  {
   "cell_type": "code",
   "execution_count": 64,
   "metadata": {},
   "outputs": [],
   "source": [
    "X.drop('Date', axis=1, inplace=True)"
   ]
  },
  {
   "cell_type": "code",
   "execution_count": 65,
   "metadata": {},
   "outputs": [
    {
     "name": "stdout",
     "output_type": "stream",
     "text": [
      "       Location  MinTemp  MaxTemp  Rainfall  Evaporation  Sunshine  \\\n",
      "0        Albury     13.4     22.9       0.6     5.469824  7.624853   \n",
      "1        Albury      7.4     25.1       0.0     5.469824  7.624853   \n",
      "2        Albury     12.9     25.7       0.0     5.469824  7.624853   \n",
      "3        Albury      9.2     28.0       0.0     5.469824  7.624853   \n",
      "4        Albury     17.5     32.3       1.0     5.469824  7.624853   \n",
      "...         ...      ...      ...       ...          ...       ...   \n",
      "142188    Uluru      3.5     21.8       0.0     5.469824  7.624853   \n",
      "142189    Uluru      2.8     23.4       0.0     5.469824  7.624853   \n",
      "142190    Uluru      3.6     25.3       0.0     5.469824  7.624853   \n",
      "142191    Uluru      5.4     26.9       0.0     5.469824  7.624853   \n",
      "142192    Uluru      7.8     27.0       0.0     5.469824  7.624853   \n",
      "\n",
      "       WindGustDir  WindGustSpeed WindDir9am WindDir3pm  ...  WindSpeed3pm  \\\n",
      "0                W           44.0          W        WNW  ...          24.0   \n",
      "1              WNW           44.0        NNW        WSW  ...          22.0   \n",
      "2              WSW           46.0          W        WSW  ...          26.0   \n",
      "3               NE           24.0         SE          E  ...           9.0   \n",
      "4                W           41.0        ENE         NW  ...          20.0   \n",
      "...            ...            ...        ...        ...  ...           ...   \n",
      "142188           E           31.0        ESE          E  ...          13.0   \n",
      "142189           E           31.0         SE        ENE  ...          11.0   \n",
      "142190         NNW           22.0         SE          N  ...           9.0   \n",
      "142191           N           37.0         SE        WNW  ...           9.0   \n",
      "142192          SE           28.0        SSE          N  ...           7.0   \n",
      "\n",
      "        Humidity9am  Humidity3pm  Pressure9am  Pressure3pm  Cloud9am  \\\n",
      "0              71.0         22.0       1007.7       1007.1  8.000000   \n",
      "1              44.0         25.0       1010.6       1007.8  4.437189   \n",
      "2              38.0         30.0       1007.6       1008.7  4.437189   \n",
      "3              45.0         16.0       1017.6       1012.8  4.437189   \n",
      "4              82.0         33.0       1010.8       1006.0  7.000000   \n",
      "...             ...          ...          ...          ...       ...   \n",
      "142188         59.0         27.0       1024.7       1021.2  4.437189   \n",
      "142189         51.0         24.0       1024.6       1020.3  4.437189   \n",
      "142190         56.0         21.0       1023.5       1019.1  4.437189   \n",
      "142191         53.0         24.0       1021.0       1016.8  4.437189   \n",
      "142192         51.0         24.0       1019.4       1016.5  3.000000   \n",
      "\n",
      "        Cloud3pm  Temp9am  Temp3pm  RainToday  \n",
      "0       4.503167     16.9     21.8         No  \n",
      "1       4.503167     17.2     24.3         No  \n",
      "2       2.000000     21.0     23.2         No  \n",
      "3       4.503167     18.1     26.5         No  \n",
      "4       8.000000     17.8     29.7         No  \n",
      "...          ...      ...      ...        ...  \n",
      "142188  4.503167      9.4     20.9         No  \n",
      "142189  4.503167     10.1     22.4         No  \n",
      "142190  4.503167     10.9     24.5         No  \n",
      "142191  4.503167     12.5     26.1         No  \n",
      "142192  2.000000     15.1     26.0         No  \n",
      "\n",
      "[142193 rows x 21 columns]\n"
     ]
    }
   ],
   "source": [
    "print(X)"
   ]
  },
  {
   "cell_type": "markdown",
   "metadata": {},
   "source": [
    "# Label encoding"
   ]
  },
  {
   "cell_type": "code",
   "execution_count": 66,
   "metadata": {},
   "outputs": [],
   "source": [
    "from sklearn import preprocessing\n",
    "le = preprocessing.LabelEncoder()"
   ]
  },
  {
   "cell_type": "code",
   "execution_count": 67,
   "metadata": {},
   "outputs": [
    {
     "data": {
      "text/plain": [
       "LabelEncoder()"
      ]
     },
     "execution_count": 67,
     "metadata": {},
     "output_type": "execute_result"
    }
   ],
   "source": [
    "le.fit(Y)"
   ]
  },
  {
   "cell_type": "code",
   "execution_count": 68,
   "metadata": {},
   "outputs": [],
   "source": [
    "Y = le.transform(Y)"
   ]
  },
  {
   "cell_type": "markdown",
   "metadata": {},
   "source": [
    "# One hot encoding"
   ]
  },
  {
   "cell_type": "code",
   "execution_count": 69,
   "metadata": {},
   "outputs": [],
   "source": [
    "from sklearn.preprocessing import OneHotEncoder\n",
    "from sklearn.compose import ColumnTransformer"
   ]
  },
  {
   "cell_type": "code",
   "execution_count": 70,
   "metadata": {},
   "outputs": [],
   "source": [
    "columnTransformer = ColumnTransformer([('encoder', OneHotEncoder(), [0,6,8,9,20])], remainder='passthrough')"
   ]
  },
  {
   "cell_type": "code",
   "execution_count": 71,
   "metadata": {},
   "outputs": [],
   "source": [
    "X = columnTransformer.fit_transform(X)"
   ]
  },
  {
   "cell_type": "code",
   "execution_count": 72,
   "metadata": {},
   "outputs": [
    {
     "name": "stdout",
     "output_type": "stream",
     "text": [
      "(142193, 115)\n"
     ]
    }
   ],
   "source": [
    "print(X.shape)"
   ]
  },
  {
   "cell_type": "code",
   "execution_count": null,
   "metadata": {},
   "outputs": [],
   "source": []
  },
  {
   "cell_type": "markdown",
   "metadata": {},
   "source": [
    "# Handling imbalanced data"
   ]
  },
  {
   "cell_type": "markdown",
   "metadata": {},
   "source": [
    "## Undersampling"
   ]
  },
  {
   "cell_type": "code",
   "execution_count": 73,
   "metadata": {},
   "outputs": [],
   "source": [
    "#from imblearn.under_sampling import RandomUnderSampler "
   ]
  },
  {
   "cell_type": "code",
   "execution_count": 74,
   "metadata": {},
   "outputs": [],
   "source": [
    "#rus = RandomUnderSampler(random_state=42)\n",
    "#X, Y = rus.fit_sample(X, Y)"
   ]
  },
  {
   "cell_type": "code",
   "execution_count": 75,
   "metadata": {},
   "outputs": [],
   "source": [
    "#print(Y)"
   ]
  },
  {
   "cell_type": "markdown",
   "metadata": {},
   "source": [
    "##  Oversampling"
   ]
  },
  {
   "cell_type": "code",
   "execution_count": 76,
   "metadata": {},
   "outputs": [],
   "source": [
    "from sklearn.datasets import make_classification\n",
    "from imblearn.over_sampling import RandomOverSampler"
   ]
  },
  {
   "cell_type": "code",
   "execution_count": 77,
   "metadata": {},
   "outputs": [],
   "source": [
    "from collections import Counter"
   ]
  },
  {
   "cell_type": "code",
   "execution_count": 78,
   "metadata": {},
   "outputs": [
    {
     "data": {
      "text/plain": [
       "Counter({0: 110316, 1: 31877})"
      ]
     },
     "execution_count": 78,
     "metadata": {},
     "output_type": "execute_result"
    }
   ],
   "source": [
    "Counter(Y)"
   ]
  },
  {
   "cell_type": "code",
   "execution_count": 79,
   "metadata": {},
   "outputs": [],
   "source": [
    "rus = RandomOverSampler(random_state=42)\n",
    "X, Y = rus.fit_sample(X, Y)"
   ]
  },
  {
   "cell_type": "code",
   "execution_count": 80,
   "metadata": {},
   "outputs": [
    {
     "data": {
      "text/plain": [
       "Counter({0: 110316, 1: 110316})"
      ]
     },
     "execution_count": 80,
     "metadata": {},
     "output_type": "execute_result"
    }
   ],
   "source": [
    "Counter(Y)"
   ]
  },
  {
   "cell_type": "markdown",
   "metadata": {},
   "source": [
    "# Train test split"
   ]
  },
  {
   "cell_type": "code",
   "execution_count": 81,
   "metadata": {},
   "outputs": [],
   "source": [
    "import numpy as np\n",
    "from sklearn.model_selection import train_test_split"
   ]
  },
  {
   "cell_type": "code",
   "execution_count": 82,
   "metadata": {},
   "outputs": [],
   "source": [
    "X_train, X_test, y_train, y_test = train_test_split(X, Y, test_size=0.20, random_state=1)"
   ]
  },
  {
   "cell_type": "code",
   "execution_count": 83,
   "metadata": {},
   "outputs": [
    {
     "name": "stdout",
     "output_type": "stream",
     "text": [
      "(176505, 115)\n"
     ]
    }
   ],
   "source": [
    "print(X_train.shape)"
   ]
  },
  {
   "cell_type": "markdown",
   "metadata": {},
   "source": [
    "# Feature scaling"
   ]
  },
  {
   "cell_type": "markdown",
   "metadata": {},
   "source": [
    "### Standardization: (X - mean(X)) / std(X)"
   ]
  },
  {
   "cell_type": "markdown",
   "metadata": {},
   "source": [
    "### Normalization = (x - min(x)) / (max(x) - min(x))"
   ]
  },
  {
   "cell_type": "code",
   "execution_count": 84,
   "metadata": {},
   "outputs": [],
   "source": [
    "from sklearn import preprocessing"
   ]
  },
  {
   "cell_type": "code",
   "execution_count": 87,
   "metadata": {},
   "outputs": [],
   "source": [
    "sc = preprocessing.StandardScaler()"
   ]
  },
  {
   "cell_type": "code",
   "execution_count": 88,
   "metadata": {},
   "outputs": [
    {
     "data": {
      "text/plain": [
       "StandardScaler(with_mean=False)"
      ]
     },
     "execution_count": 88,
     "metadata": {},
     "output_type": "execute_result"
    }
   ],
   "source": [
    "sc.fit(X_train)"
   ]
  },
  {
   "cell_type": "code",
   "execution_count": 89,
   "metadata": {},
   "outputs": [],
   "source": [
    "X_train = sc.transform(X_train)"
   ]
  },
  {
   "cell_type": "code",
   "execution_count": 90,
   "metadata": {},
   "outputs": [
    {
     "name": "stdout",
     "output_type": "stream",
     "text": [
      "(176505, 115)\n"
     ]
    }
   ],
   "source": [
    "print(X_train.shape)"
   ]
  },
  {
   "cell_type": "code",
   "execution_count": 91,
   "metadata": {},
   "outputs": [],
   "source": [
    "X_test = sc.transform(X_test)"
   ]
  },
  {
   "cell_type": "code",
   "execution_count": 92,
   "metadata": {},
   "outputs": [
    {
     "name": "stdout",
     "output_type": "stream",
     "text": [
      "(44127, 115)\n"
     ]
    }
   ],
   "source": [
    "print(X_test.shape)"
   ]
  },
  {
   "cell_type": "markdown",
   "metadata": {},
   "source": [
    "#### The data is ready!!"
   ]
  },
  {
   "cell_type": "code",
   "execution_count": null,
   "metadata": {},
   "outputs": [],
   "source": []
  }
 ],
 "metadata": {
  "kernelspec": {
   "display_name": "Python 3",
   "language": "python",
   "name": "python3"
  },
  "language_info": {
   "codemirror_mode": {
    "name": "ipython",
    "version": 3
   },
   "file_extension": ".py",
   "mimetype": "text/x-python",
   "name": "python",
   "nbconvert_exporter": "python",
   "pygments_lexer": "ipython3",
   "version": "3.7.1"
  }
 },
 "nbformat": 4,
 "nbformat_minor": 4
}
