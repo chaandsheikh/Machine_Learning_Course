{
 "cells": [
  {
   "cell_type": "markdown",
   "metadata": {},
   "source": [
    "# Data: https://www.kaggle.com/jsphyg/weather-dataset-rattle-package?select=weatherAUS.csv"
   ]
  },
  {
   "cell_type": "markdown",
   "metadata": {},
   "source": [
    "# Import data"
   ]
  },
  {
   "cell_type": "code",
   "execution_count": 123,
   "metadata": {},
   "outputs": [],
   "source": [
    "import pandas as pd \n",
    "import seaborn as sns"
   ]
  },
  {
   "cell_type": "code",
   "execution_count": 124,
   "metadata": {},
   "outputs": [],
   "source": [
    "data = pd.read_csv('weatherAUS.csv')"
   ]
  },
  {
   "cell_type": "code",
   "execution_count": 125,
   "metadata": {},
   "outputs": [
    {
     "data": {
      "text/html": [
       "<div>\n",
       "<style scoped>\n",
       "    .dataframe tbody tr th:only-of-type {\n",
       "        vertical-align: middle;\n",
       "    }\n",
       "\n",
       "    .dataframe tbody tr th {\n",
       "        vertical-align: top;\n",
       "    }\n",
       "\n",
       "    .dataframe thead th {\n",
       "        text-align: right;\n",
       "    }\n",
       "</style>\n",
       "<table border=\"1\" class=\"dataframe\">\n",
       "  <thead>\n",
       "    <tr style=\"text-align: right;\">\n",
       "      <th></th>\n",
       "      <th>Date</th>\n",
       "      <th>Location</th>\n",
       "      <th>MinTemp</th>\n",
       "      <th>MaxTemp</th>\n",
       "      <th>Rainfall</th>\n",
       "      <th>Evaporation</th>\n",
       "      <th>Sunshine</th>\n",
       "      <th>WindGustDir</th>\n",
       "      <th>WindGustSpeed</th>\n",
       "      <th>WindDir9am</th>\n",
       "      <th>...</th>\n",
       "      <th>Humidity3pm</th>\n",
       "      <th>Pressure9am</th>\n",
       "      <th>Pressure3pm</th>\n",
       "      <th>Cloud9am</th>\n",
       "      <th>Cloud3pm</th>\n",
       "      <th>Temp9am</th>\n",
       "      <th>Temp3pm</th>\n",
       "      <th>RainToday</th>\n",
       "      <th>RISK_MM</th>\n",
       "      <th>RainTomorrow</th>\n",
       "    </tr>\n",
       "  </thead>\n",
       "  <tbody>\n",
       "    <tr>\n",
       "      <th>142188</th>\n",
       "      <td>2017-06-20</td>\n",
       "      <td>Uluru</td>\n",
       "      <td>3.5</td>\n",
       "      <td>21.8</td>\n",
       "      <td>0.0</td>\n",
       "      <td>NaN</td>\n",
       "      <td>NaN</td>\n",
       "      <td>E</td>\n",
       "      <td>31.0</td>\n",
       "      <td>ESE</td>\n",
       "      <td>...</td>\n",
       "      <td>27.0</td>\n",
       "      <td>1024.7</td>\n",
       "      <td>1021.2</td>\n",
       "      <td>NaN</td>\n",
       "      <td>NaN</td>\n",
       "      <td>9.4</td>\n",
       "      <td>20.9</td>\n",
       "      <td>No</td>\n",
       "      <td>0.0</td>\n",
       "      <td>No</td>\n",
       "    </tr>\n",
       "    <tr>\n",
       "      <th>142189</th>\n",
       "      <td>2017-06-21</td>\n",
       "      <td>Uluru</td>\n",
       "      <td>2.8</td>\n",
       "      <td>23.4</td>\n",
       "      <td>0.0</td>\n",
       "      <td>NaN</td>\n",
       "      <td>NaN</td>\n",
       "      <td>E</td>\n",
       "      <td>31.0</td>\n",
       "      <td>SE</td>\n",
       "      <td>...</td>\n",
       "      <td>24.0</td>\n",
       "      <td>1024.6</td>\n",
       "      <td>1020.3</td>\n",
       "      <td>NaN</td>\n",
       "      <td>NaN</td>\n",
       "      <td>10.1</td>\n",
       "      <td>22.4</td>\n",
       "      <td>No</td>\n",
       "      <td>0.0</td>\n",
       "      <td>No</td>\n",
       "    </tr>\n",
       "    <tr>\n",
       "      <th>142190</th>\n",
       "      <td>2017-06-22</td>\n",
       "      <td>Uluru</td>\n",
       "      <td>3.6</td>\n",
       "      <td>25.3</td>\n",
       "      <td>0.0</td>\n",
       "      <td>NaN</td>\n",
       "      <td>NaN</td>\n",
       "      <td>NNW</td>\n",
       "      <td>22.0</td>\n",
       "      <td>SE</td>\n",
       "      <td>...</td>\n",
       "      <td>21.0</td>\n",
       "      <td>1023.5</td>\n",
       "      <td>1019.1</td>\n",
       "      <td>NaN</td>\n",
       "      <td>NaN</td>\n",
       "      <td>10.9</td>\n",
       "      <td>24.5</td>\n",
       "      <td>No</td>\n",
       "      <td>0.0</td>\n",
       "      <td>No</td>\n",
       "    </tr>\n",
       "    <tr>\n",
       "      <th>142191</th>\n",
       "      <td>2017-06-23</td>\n",
       "      <td>Uluru</td>\n",
       "      <td>5.4</td>\n",
       "      <td>26.9</td>\n",
       "      <td>0.0</td>\n",
       "      <td>NaN</td>\n",
       "      <td>NaN</td>\n",
       "      <td>N</td>\n",
       "      <td>37.0</td>\n",
       "      <td>SE</td>\n",
       "      <td>...</td>\n",
       "      <td>24.0</td>\n",
       "      <td>1021.0</td>\n",
       "      <td>1016.8</td>\n",
       "      <td>NaN</td>\n",
       "      <td>NaN</td>\n",
       "      <td>12.5</td>\n",
       "      <td>26.1</td>\n",
       "      <td>No</td>\n",
       "      <td>0.0</td>\n",
       "      <td>No</td>\n",
       "    </tr>\n",
       "    <tr>\n",
       "      <th>142192</th>\n",
       "      <td>2017-06-24</td>\n",
       "      <td>Uluru</td>\n",
       "      <td>7.8</td>\n",
       "      <td>27.0</td>\n",
       "      <td>0.0</td>\n",
       "      <td>NaN</td>\n",
       "      <td>NaN</td>\n",
       "      <td>SE</td>\n",
       "      <td>28.0</td>\n",
       "      <td>SSE</td>\n",
       "      <td>...</td>\n",
       "      <td>24.0</td>\n",
       "      <td>1019.4</td>\n",
       "      <td>1016.5</td>\n",
       "      <td>3.0</td>\n",
       "      <td>2.0</td>\n",
       "      <td>15.1</td>\n",
       "      <td>26.0</td>\n",
       "      <td>No</td>\n",
       "      <td>0.0</td>\n",
       "      <td>No</td>\n",
       "    </tr>\n",
       "  </tbody>\n",
       "</table>\n",
       "<p>5 rows × 24 columns</p>\n",
       "</div>"
      ],
      "text/plain": [
       "              Date Location  MinTemp  MaxTemp  Rainfall  Evaporation  \\\n",
       "142188  2017-06-20    Uluru      3.5     21.8       0.0          NaN   \n",
       "142189  2017-06-21    Uluru      2.8     23.4       0.0          NaN   \n",
       "142190  2017-06-22    Uluru      3.6     25.3       0.0          NaN   \n",
       "142191  2017-06-23    Uluru      5.4     26.9       0.0          NaN   \n",
       "142192  2017-06-24    Uluru      7.8     27.0       0.0          NaN   \n",
       "\n",
       "        Sunshine WindGustDir  WindGustSpeed WindDir9am  ... Humidity3pm  \\\n",
       "142188       NaN           E           31.0        ESE  ...        27.0   \n",
       "142189       NaN           E           31.0         SE  ...        24.0   \n",
       "142190       NaN         NNW           22.0         SE  ...        21.0   \n",
       "142191       NaN           N           37.0         SE  ...        24.0   \n",
       "142192       NaN          SE           28.0        SSE  ...        24.0   \n",
       "\n",
       "        Pressure9am  Pressure3pm  Cloud9am  Cloud3pm  Temp9am  Temp3pm  \\\n",
       "142188       1024.7       1021.2       NaN       NaN      9.4     20.9   \n",
       "142189       1024.6       1020.3       NaN       NaN     10.1     22.4   \n",
       "142190       1023.5       1019.1       NaN       NaN     10.9     24.5   \n",
       "142191       1021.0       1016.8       NaN       NaN     12.5     26.1   \n",
       "142192       1019.4       1016.5       3.0       2.0     15.1     26.0   \n",
       "\n",
       "        RainToday  RISK_MM  RainTomorrow  \n",
       "142188         No      0.0            No  \n",
       "142189         No      0.0            No  \n",
       "142190         No      0.0            No  \n",
       "142191         No      0.0            No  \n",
       "142192         No      0.0            No  \n",
       "\n",
       "[5 rows x 24 columns]"
      ]
     },
     "execution_count": 125,
     "metadata": {},
     "output_type": "execute_result"
    }
   ],
   "source": [
    "data.tail()"
   ]
  },
  {
   "cell_type": "code",
   "execution_count": 126,
   "metadata": {},
   "outputs": [
    {
     "data": {
      "text/html": [
       "<div>\n",
       "<style scoped>\n",
       "    .dataframe tbody tr th:only-of-type {\n",
       "        vertical-align: middle;\n",
       "    }\n",
       "\n",
       "    .dataframe tbody tr th {\n",
       "        vertical-align: top;\n",
       "    }\n",
       "\n",
       "    .dataframe thead th {\n",
       "        text-align: right;\n",
       "    }\n",
       "</style>\n",
       "<table border=\"1\" class=\"dataframe\">\n",
       "  <thead>\n",
       "    <tr style=\"text-align: right;\">\n",
       "      <th></th>\n",
       "      <th>MinTemp</th>\n",
       "      <th>MaxTemp</th>\n",
       "      <th>Rainfall</th>\n",
       "      <th>Evaporation</th>\n",
       "      <th>Sunshine</th>\n",
       "      <th>WindGustSpeed</th>\n",
       "      <th>WindSpeed9am</th>\n",
       "      <th>WindSpeed3pm</th>\n",
       "      <th>Humidity9am</th>\n",
       "      <th>Humidity3pm</th>\n",
       "      <th>Pressure9am</th>\n",
       "      <th>Pressure3pm</th>\n",
       "      <th>Cloud9am</th>\n",
       "      <th>Cloud3pm</th>\n",
       "      <th>Temp9am</th>\n",
       "      <th>Temp3pm</th>\n",
       "      <th>RISK_MM</th>\n",
       "    </tr>\n",
       "  </thead>\n",
       "  <tbody>\n",
       "    <tr>\n",
       "      <th>MinTemp</th>\n",
       "      <td>1.000000</td>\n",
       "      <td>0.736267</td>\n",
       "      <td>0.104255</td>\n",
       "      <td>0.467261</td>\n",
       "      <td>0.072961</td>\n",
       "      <td>0.177285</td>\n",
       "      <td>0.176005</td>\n",
       "      <td>0.175749</td>\n",
       "      <td>-0.234211</td>\n",
       "      <td>0.005999</td>\n",
       "      <td>-0.451260</td>\n",
       "      <td>-0.461623</td>\n",
       "      <td>0.077625</td>\n",
       "      <td>0.020489</td>\n",
       "      <td>0.901813</td>\n",
       "      <td>0.708865</td>\n",
       "      <td>0.124743</td>\n",
       "    </tr>\n",
       "    <tr>\n",
       "      <th>MaxTemp</th>\n",
       "      <td>0.736267</td>\n",
       "      <td>1.000000</td>\n",
       "      <td>-0.074839</td>\n",
       "      <td>0.588915</td>\n",
       "      <td>0.469967</td>\n",
       "      <td>0.067690</td>\n",
       "      <td>0.014680</td>\n",
       "      <td>0.050800</td>\n",
       "      <td>-0.505432</td>\n",
       "      <td>-0.509270</td>\n",
       "      <td>-0.332293</td>\n",
       "      <td>-0.427279</td>\n",
       "      <td>-0.289865</td>\n",
       "      <td>-0.279053</td>\n",
       "      <td>0.887020</td>\n",
       "      <td>0.984562</td>\n",
       "      <td>-0.044208</td>\n",
       "    </tr>\n",
       "    <tr>\n",
       "      <th>Rainfall</th>\n",
       "      <td>0.104255</td>\n",
       "      <td>-0.074839</td>\n",
       "      <td>1.000000</td>\n",
       "      <td>-0.064549</td>\n",
       "      <td>-0.227525</td>\n",
       "      <td>0.133497</td>\n",
       "      <td>0.086816</td>\n",
       "      <td>0.057759</td>\n",
       "      <td>0.223725</td>\n",
       "      <td>0.255312</td>\n",
       "      <td>-0.168085</td>\n",
       "      <td>-0.126728</td>\n",
       "      <td>0.198195</td>\n",
       "      <td>0.171993</td>\n",
       "      <td>0.011477</td>\n",
       "      <td>-0.079178</td>\n",
       "      <td>0.308557</td>\n",
       "    </tr>\n",
       "    <tr>\n",
       "      <th>Evaporation</th>\n",
       "      <td>0.467261</td>\n",
       "      <td>0.588915</td>\n",
       "      <td>-0.064549</td>\n",
       "      <td>1.000000</td>\n",
       "      <td>0.366607</td>\n",
       "      <td>0.203001</td>\n",
       "      <td>0.193936</td>\n",
       "      <td>0.128895</td>\n",
       "      <td>-0.505890</td>\n",
       "      <td>-0.392785</td>\n",
       "      <td>-0.269907</td>\n",
       "      <td>-0.293160</td>\n",
       "      <td>-0.185032</td>\n",
       "      <td>-0.184287</td>\n",
       "      <td>0.545497</td>\n",
       "      <td>0.574275</td>\n",
       "      <td>-0.043498</td>\n",
       "    </tr>\n",
       "    <tr>\n",
       "      <th>Sunshine</th>\n",
       "      <td>0.072961</td>\n",
       "      <td>0.469967</td>\n",
       "      <td>-0.227525</td>\n",
       "      <td>0.366607</td>\n",
       "      <td>1.000000</td>\n",
       "      <td>-0.032831</td>\n",
       "      <td>0.008040</td>\n",
       "      <td>0.056012</td>\n",
       "      <td>-0.491603</td>\n",
       "      <td>-0.629122</td>\n",
       "      <td>0.040959</td>\n",
       "      <td>-0.020464</td>\n",
       "      <td>-0.675610</td>\n",
       "      <td>-0.704202</td>\n",
       "      <td>0.291139</td>\n",
       "      <td>0.490180</td>\n",
       "      <td>-0.294973</td>\n",
       "    </tr>\n",
       "    <tr>\n",
       "      <th>WindGustSpeed</th>\n",
       "      <td>0.177285</td>\n",
       "      <td>0.067690</td>\n",
       "      <td>0.133497</td>\n",
       "      <td>0.203001</td>\n",
       "      <td>-0.032831</td>\n",
       "      <td>1.000000</td>\n",
       "      <td>0.604837</td>\n",
       "      <td>0.686419</td>\n",
       "      <td>-0.215461</td>\n",
       "      <td>-0.026663</td>\n",
       "      <td>-0.457891</td>\n",
       "      <td>-0.412922</td>\n",
       "      <td>0.071235</td>\n",
       "      <td>0.109088</td>\n",
       "      <td>0.150258</td>\n",
       "      <td>0.032970</td>\n",
       "      <td>0.162923</td>\n",
       "    </tr>\n",
       "    <tr>\n",
       "      <th>WindSpeed9am</th>\n",
       "      <td>0.176005</td>\n",
       "      <td>0.014680</td>\n",
       "      <td>0.086816</td>\n",
       "      <td>0.193936</td>\n",
       "      <td>0.008040</td>\n",
       "      <td>0.604837</td>\n",
       "      <td>1.000000</td>\n",
       "      <td>0.519971</td>\n",
       "      <td>-0.270807</td>\n",
       "      <td>-0.031607</td>\n",
       "      <td>-0.227923</td>\n",
       "      <td>-0.174916</td>\n",
       "      <td>0.024280</td>\n",
       "      <td>0.053584</td>\n",
       "      <td>0.129298</td>\n",
       "      <td>0.005108</td>\n",
       "      <td>0.069404</td>\n",
       "    </tr>\n",
       "    <tr>\n",
       "      <th>WindSpeed3pm</th>\n",
       "      <td>0.175749</td>\n",
       "      <td>0.050800</td>\n",
       "      <td>0.057759</td>\n",
       "      <td>0.128895</td>\n",
       "      <td>0.056012</td>\n",
       "      <td>0.686419</td>\n",
       "      <td>0.519971</td>\n",
       "      <td>1.000000</td>\n",
       "      <td>-0.145942</td>\n",
       "      <td>0.015903</td>\n",
       "      <td>-0.295567</td>\n",
       "      <td>-0.254988</td>\n",
       "      <td>0.052780</td>\n",
       "      <td>0.025269</td>\n",
       "      <td>0.163601</td>\n",
       "      <td>0.028567</td>\n",
       "      <td>0.049240</td>\n",
       "    </tr>\n",
       "    <tr>\n",
       "      <th>Humidity9am</th>\n",
       "      <td>-0.234211</td>\n",
       "      <td>-0.505432</td>\n",
       "      <td>0.223725</td>\n",
       "      <td>-0.505890</td>\n",
       "      <td>-0.491603</td>\n",
       "      <td>-0.215461</td>\n",
       "      <td>-0.270807</td>\n",
       "      <td>-0.145942</td>\n",
       "      <td>1.000000</td>\n",
       "      <td>0.667388</td>\n",
       "      <td>0.139519</td>\n",
       "      <td>0.186955</td>\n",
       "      <td>0.452182</td>\n",
       "      <td>0.358043</td>\n",
       "      <td>-0.472826</td>\n",
       "      <td>-0.499777</td>\n",
       "      <td>0.172417</td>\n",
       "    </tr>\n",
       "    <tr>\n",
       "      <th>Humidity3pm</th>\n",
       "      <td>0.005999</td>\n",
       "      <td>-0.509270</td>\n",
       "      <td>0.255312</td>\n",
       "      <td>-0.392785</td>\n",
       "      <td>-0.629122</td>\n",
       "      <td>-0.026663</td>\n",
       "      <td>-0.031607</td>\n",
       "      <td>0.015903</td>\n",
       "      <td>0.667388</td>\n",
       "      <td>1.000000</td>\n",
       "      <td>-0.027449</td>\n",
       "      <td>0.051840</td>\n",
       "      <td>0.517037</td>\n",
       "      <td>0.523270</td>\n",
       "      <td>-0.221467</td>\n",
       "      <td>-0.557989</td>\n",
       "      <td>0.313183</td>\n",
       "    </tr>\n",
       "    <tr>\n",
       "      <th>Pressure9am</th>\n",
       "      <td>-0.451260</td>\n",
       "      <td>-0.332293</td>\n",
       "      <td>-0.168085</td>\n",
       "      <td>-0.269907</td>\n",
       "      <td>0.040959</td>\n",
       "      <td>-0.457891</td>\n",
       "      <td>-0.227923</td>\n",
       "      <td>-0.295567</td>\n",
       "      <td>0.139519</td>\n",
       "      <td>-0.027449</td>\n",
       "      <td>1.000000</td>\n",
       "      <td>0.961348</td>\n",
       "      <td>-0.130081</td>\n",
       "      <td>-0.148139</td>\n",
       "      <td>-0.422773</td>\n",
       "      <td>-0.287301</td>\n",
       "      <td>-0.163673</td>\n",
       "    </tr>\n",
       "    <tr>\n",
       "      <th>Pressure3pm</th>\n",
       "      <td>-0.461623</td>\n",
       "      <td>-0.427279</td>\n",
       "      <td>-0.126728</td>\n",
       "      <td>-0.293160</td>\n",
       "      <td>-0.020464</td>\n",
       "      <td>-0.412922</td>\n",
       "      <td>-0.174916</td>\n",
       "      <td>-0.254988</td>\n",
       "      <td>0.186955</td>\n",
       "      <td>0.051840</td>\n",
       "      <td>0.961348</td>\n",
       "      <td>1.000000</td>\n",
       "      <td>-0.061152</td>\n",
       "      <td>-0.084963</td>\n",
       "      <td>-0.470325</td>\n",
       "      <td>-0.389863</td>\n",
       "      <td>-0.164184</td>\n",
       "    </tr>\n",
       "    <tr>\n",
       "      <th>Cloud9am</th>\n",
       "      <td>0.077625</td>\n",
       "      <td>-0.289865</td>\n",
       "      <td>0.198195</td>\n",
       "      <td>-0.185032</td>\n",
       "      <td>-0.675610</td>\n",
       "      <td>0.071235</td>\n",
       "      <td>0.024280</td>\n",
       "      <td>0.052780</td>\n",
       "      <td>0.452182</td>\n",
       "      <td>0.517037</td>\n",
       "      <td>-0.130081</td>\n",
       "      <td>-0.061152</td>\n",
       "      <td>1.000000</td>\n",
       "      <td>0.604118</td>\n",
       "      <td>-0.137843</td>\n",
       "      <td>-0.302520</td>\n",
       "      <td>0.198095</td>\n",
       "    </tr>\n",
       "    <tr>\n",
       "      <th>Cloud3pm</th>\n",
       "      <td>0.020489</td>\n",
       "      <td>-0.279053</td>\n",
       "      <td>0.171993</td>\n",
       "      <td>-0.184287</td>\n",
       "      <td>-0.704202</td>\n",
       "      <td>0.109088</td>\n",
       "      <td>0.053584</td>\n",
       "      <td>0.025269</td>\n",
       "      <td>0.358043</td>\n",
       "      <td>0.523270</td>\n",
       "      <td>-0.148139</td>\n",
       "      <td>-0.084963</td>\n",
       "      <td>0.604118</td>\n",
       "      <td>1.000000</td>\n",
       "      <td>-0.127869</td>\n",
       "      <td>-0.318254</td>\n",
       "      <td>0.234814</td>\n",
       "    </tr>\n",
       "    <tr>\n",
       "      <th>Temp9am</th>\n",
       "      <td>0.901813</td>\n",
       "      <td>0.887020</td>\n",
       "      <td>0.011477</td>\n",
       "      <td>0.545497</td>\n",
       "      <td>0.291139</td>\n",
       "      <td>0.150258</td>\n",
       "      <td>0.129298</td>\n",
       "      <td>0.163601</td>\n",
       "      <td>-0.472826</td>\n",
       "      <td>-0.221467</td>\n",
       "      <td>-0.422773</td>\n",
       "      <td>-0.470325</td>\n",
       "      <td>-0.137843</td>\n",
       "      <td>-0.127869</td>\n",
       "      <td>1.000000</td>\n",
       "      <td>0.860574</td>\n",
       "      <td>0.051232</td>\n",
       "    </tr>\n",
       "    <tr>\n",
       "      <th>Temp3pm</th>\n",
       "      <td>0.708865</td>\n",
       "      <td>0.984562</td>\n",
       "      <td>-0.079178</td>\n",
       "      <td>0.574275</td>\n",
       "      <td>0.490180</td>\n",
       "      <td>0.032970</td>\n",
       "      <td>0.005108</td>\n",
       "      <td>0.028567</td>\n",
       "      <td>-0.499777</td>\n",
       "      <td>-0.557989</td>\n",
       "      <td>-0.287301</td>\n",
       "      <td>-0.389863</td>\n",
       "      <td>-0.302520</td>\n",
       "      <td>-0.318254</td>\n",
       "      <td>0.860574</td>\n",
       "      <td>1.000000</td>\n",
       "      <td>-0.066817</td>\n",
       "    </tr>\n",
       "    <tr>\n",
       "      <th>RISK_MM</th>\n",
       "      <td>0.124743</td>\n",
       "      <td>-0.044208</td>\n",
       "      <td>0.308557</td>\n",
       "      <td>-0.043498</td>\n",
       "      <td>-0.294973</td>\n",
       "      <td>0.162923</td>\n",
       "      <td>0.069404</td>\n",
       "      <td>0.049240</td>\n",
       "      <td>0.172417</td>\n",
       "      <td>0.313183</td>\n",
       "      <td>-0.163673</td>\n",
       "      <td>-0.164184</td>\n",
       "      <td>0.198095</td>\n",
       "      <td>0.234814</td>\n",
       "      <td>0.051232</td>\n",
       "      <td>-0.066817</td>\n",
       "      <td>1.000000</td>\n",
       "    </tr>\n",
       "  </tbody>\n",
       "</table>\n",
       "</div>"
      ],
      "text/plain": [
       "                MinTemp   MaxTemp  Rainfall  Evaporation  Sunshine  \\\n",
       "MinTemp        1.000000  0.736267  0.104255     0.467261  0.072961   \n",
       "MaxTemp        0.736267  1.000000 -0.074839     0.588915  0.469967   \n",
       "Rainfall       0.104255 -0.074839  1.000000    -0.064549 -0.227525   \n",
       "Evaporation    0.467261  0.588915 -0.064549     1.000000  0.366607   \n",
       "Sunshine       0.072961  0.469967 -0.227525     0.366607  1.000000   \n",
       "WindGustSpeed  0.177285  0.067690  0.133497     0.203001 -0.032831   \n",
       "WindSpeed9am   0.176005  0.014680  0.086816     0.193936  0.008040   \n",
       "WindSpeed3pm   0.175749  0.050800  0.057759     0.128895  0.056012   \n",
       "Humidity9am   -0.234211 -0.505432  0.223725    -0.505890 -0.491603   \n",
       "Humidity3pm    0.005999 -0.509270  0.255312    -0.392785 -0.629122   \n",
       "Pressure9am   -0.451260 -0.332293 -0.168085    -0.269907  0.040959   \n",
       "Pressure3pm   -0.461623 -0.427279 -0.126728    -0.293160 -0.020464   \n",
       "Cloud9am       0.077625 -0.289865  0.198195    -0.185032 -0.675610   \n",
       "Cloud3pm       0.020489 -0.279053  0.171993    -0.184287 -0.704202   \n",
       "Temp9am        0.901813  0.887020  0.011477     0.545497  0.291139   \n",
       "Temp3pm        0.708865  0.984562 -0.079178     0.574275  0.490180   \n",
       "RISK_MM        0.124743 -0.044208  0.308557    -0.043498 -0.294973   \n",
       "\n",
       "               WindGustSpeed  WindSpeed9am  WindSpeed3pm  Humidity9am  \\\n",
       "MinTemp             0.177285      0.176005      0.175749    -0.234211   \n",
       "MaxTemp             0.067690      0.014680      0.050800    -0.505432   \n",
       "Rainfall            0.133497      0.086816      0.057759     0.223725   \n",
       "Evaporation         0.203001      0.193936      0.128895    -0.505890   \n",
       "Sunshine           -0.032831      0.008040      0.056012    -0.491603   \n",
       "WindGustSpeed       1.000000      0.604837      0.686419    -0.215461   \n",
       "WindSpeed9am        0.604837      1.000000      0.519971    -0.270807   \n",
       "WindSpeed3pm        0.686419      0.519971      1.000000    -0.145942   \n",
       "Humidity9am        -0.215461     -0.270807     -0.145942     1.000000   \n",
       "Humidity3pm        -0.026663     -0.031607      0.015903     0.667388   \n",
       "Pressure9am        -0.457891     -0.227923     -0.295567     0.139519   \n",
       "Pressure3pm        -0.412922     -0.174916     -0.254988     0.186955   \n",
       "Cloud9am            0.071235      0.024280      0.052780     0.452182   \n",
       "Cloud3pm            0.109088      0.053584      0.025269     0.358043   \n",
       "Temp9am             0.150258      0.129298      0.163601    -0.472826   \n",
       "Temp3pm             0.032970      0.005108      0.028567    -0.499777   \n",
       "RISK_MM             0.162923      0.069404      0.049240     0.172417   \n",
       "\n",
       "               Humidity3pm  Pressure9am  Pressure3pm  Cloud9am  Cloud3pm  \\\n",
       "MinTemp           0.005999    -0.451260    -0.461623  0.077625  0.020489   \n",
       "MaxTemp          -0.509270    -0.332293    -0.427279 -0.289865 -0.279053   \n",
       "Rainfall          0.255312    -0.168085    -0.126728  0.198195  0.171993   \n",
       "Evaporation      -0.392785    -0.269907    -0.293160 -0.185032 -0.184287   \n",
       "Sunshine         -0.629122     0.040959    -0.020464 -0.675610 -0.704202   \n",
       "WindGustSpeed    -0.026663    -0.457891    -0.412922  0.071235  0.109088   \n",
       "WindSpeed9am     -0.031607    -0.227923    -0.174916  0.024280  0.053584   \n",
       "WindSpeed3pm      0.015903    -0.295567    -0.254988  0.052780  0.025269   \n",
       "Humidity9am       0.667388     0.139519     0.186955  0.452182  0.358043   \n",
       "Humidity3pm       1.000000    -0.027449     0.051840  0.517037  0.523270   \n",
       "Pressure9am      -0.027449     1.000000     0.961348 -0.130081 -0.148139   \n",
       "Pressure3pm       0.051840     0.961348     1.000000 -0.061152 -0.084963   \n",
       "Cloud9am          0.517037    -0.130081    -0.061152  1.000000  0.604118   \n",
       "Cloud3pm          0.523270    -0.148139    -0.084963  0.604118  1.000000   \n",
       "Temp9am          -0.221467    -0.422773    -0.470325 -0.137843 -0.127869   \n",
       "Temp3pm          -0.557989    -0.287301    -0.389863 -0.302520 -0.318254   \n",
       "RISK_MM           0.313183    -0.163673    -0.164184  0.198095  0.234814   \n",
       "\n",
       "                Temp9am   Temp3pm   RISK_MM  \n",
       "MinTemp        0.901813  0.708865  0.124743  \n",
       "MaxTemp        0.887020  0.984562 -0.044208  \n",
       "Rainfall       0.011477 -0.079178  0.308557  \n",
       "Evaporation    0.545497  0.574275 -0.043498  \n",
       "Sunshine       0.291139  0.490180 -0.294973  \n",
       "WindGustSpeed  0.150258  0.032970  0.162923  \n",
       "WindSpeed9am   0.129298  0.005108  0.069404  \n",
       "WindSpeed3pm   0.163601  0.028567  0.049240  \n",
       "Humidity9am   -0.472826 -0.499777  0.172417  \n",
       "Humidity3pm   -0.221467 -0.557989  0.313183  \n",
       "Pressure9am   -0.422773 -0.287301 -0.163673  \n",
       "Pressure3pm   -0.470325 -0.389863 -0.164184  \n",
       "Cloud9am      -0.137843 -0.302520  0.198095  \n",
       "Cloud3pm      -0.127869 -0.318254  0.234814  \n",
       "Temp9am        1.000000  0.860574  0.051232  \n",
       "Temp3pm        0.860574  1.000000 -0.066817  \n",
       "RISK_MM        0.051232 -0.066817  1.000000  "
      ]
     },
     "execution_count": 126,
     "metadata": {},
     "output_type": "execute_result"
    }
   ],
   "source": [
    "data.corr()"
   ]
  },
  {
   "cell_type": "code",
   "execution_count": null,
   "metadata": {},
   "outputs": [],
   "source": []
  },
  {
   "cell_type": "code",
   "execution_count": 127,
   "metadata": {},
   "outputs": [],
   "source": [
    "X = data.iloc[:,:-1]"
   ]
  },
  {
   "cell_type": "code",
   "execution_count": 128,
   "metadata": {},
   "outputs": [
    {
     "data": {
      "text/html": [
       "<div>\n",
       "<style scoped>\n",
       "    .dataframe tbody tr th:only-of-type {\n",
       "        vertical-align: middle;\n",
       "    }\n",
       "\n",
       "    .dataframe tbody tr th {\n",
       "        vertical-align: top;\n",
       "    }\n",
       "\n",
       "    .dataframe thead th {\n",
       "        text-align: right;\n",
       "    }\n",
       "</style>\n",
       "<table border=\"1\" class=\"dataframe\">\n",
       "  <thead>\n",
       "    <tr style=\"text-align: right;\">\n",
       "      <th></th>\n",
       "      <th>Date</th>\n",
       "      <th>Location</th>\n",
       "      <th>MinTemp</th>\n",
       "      <th>MaxTemp</th>\n",
       "      <th>Rainfall</th>\n",
       "      <th>Evaporation</th>\n",
       "      <th>Sunshine</th>\n",
       "      <th>WindGustDir</th>\n",
       "      <th>WindGustSpeed</th>\n",
       "      <th>WindDir9am</th>\n",
       "      <th>...</th>\n",
       "      <th>Humidity9am</th>\n",
       "      <th>Humidity3pm</th>\n",
       "      <th>Pressure9am</th>\n",
       "      <th>Pressure3pm</th>\n",
       "      <th>Cloud9am</th>\n",
       "      <th>Cloud3pm</th>\n",
       "      <th>Temp9am</th>\n",
       "      <th>Temp3pm</th>\n",
       "      <th>RainToday</th>\n",
       "      <th>RISK_MM</th>\n",
       "    </tr>\n",
       "  </thead>\n",
       "  <tbody>\n",
       "    <tr>\n",
       "      <th>0</th>\n",
       "      <td>2008-12-01</td>\n",
       "      <td>Albury</td>\n",
       "      <td>13.4</td>\n",
       "      <td>22.9</td>\n",
       "      <td>0.6</td>\n",
       "      <td>NaN</td>\n",
       "      <td>NaN</td>\n",
       "      <td>W</td>\n",
       "      <td>44.0</td>\n",
       "      <td>W</td>\n",
       "      <td>...</td>\n",
       "      <td>71.0</td>\n",
       "      <td>22.0</td>\n",
       "      <td>1007.7</td>\n",
       "      <td>1007.1</td>\n",
       "      <td>8.0</td>\n",
       "      <td>NaN</td>\n",
       "      <td>16.9</td>\n",
       "      <td>21.8</td>\n",
       "      <td>No</td>\n",
       "      <td>0.0</td>\n",
       "    </tr>\n",
       "    <tr>\n",
       "      <th>1</th>\n",
       "      <td>2008-12-02</td>\n",
       "      <td>Albury</td>\n",
       "      <td>7.4</td>\n",
       "      <td>25.1</td>\n",
       "      <td>0.0</td>\n",
       "      <td>NaN</td>\n",
       "      <td>NaN</td>\n",
       "      <td>WNW</td>\n",
       "      <td>44.0</td>\n",
       "      <td>NNW</td>\n",
       "      <td>...</td>\n",
       "      <td>44.0</td>\n",
       "      <td>25.0</td>\n",
       "      <td>1010.6</td>\n",
       "      <td>1007.8</td>\n",
       "      <td>NaN</td>\n",
       "      <td>NaN</td>\n",
       "      <td>17.2</td>\n",
       "      <td>24.3</td>\n",
       "      <td>No</td>\n",
       "      <td>0.0</td>\n",
       "    </tr>\n",
       "    <tr>\n",
       "      <th>2</th>\n",
       "      <td>2008-12-03</td>\n",
       "      <td>Albury</td>\n",
       "      <td>12.9</td>\n",
       "      <td>25.7</td>\n",
       "      <td>0.0</td>\n",
       "      <td>NaN</td>\n",
       "      <td>NaN</td>\n",
       "      <td>WSW</td>\n",
       "      <td>46.0</td>\n",
       "      <td>W</td>\n",
       "      <td>...</td>\n",
       "      <td>38.0</td>\n",
       "      <td>30.0</td>\n",
       "      <td>1007.6</td>\n",
       "      <td>1008.7</td>\n",
       "      <td>NaN</td>\n",
       "      <td>2.0</td>\n",
       "      <td>21.0</td>\n",
       "      <td>23.2</td>\n",
       "      <td>No</td>\n",
       "      <td>0.0</td>\n",
       "    </tr>\n",
       "    <tr>\n",
       "      <th>3</th>\n",
       "      <td>2008-12-04</td>\n",
       "      <td>Albury</td>\n",
       "      <td>9.2</td>\n",
       "      <td>28.0</td>\n",
       "      <td>0.0</td>\n",
       "      <td>NaN</td>\n",
       "      <td>NaN</td>\n",
       "      <td>NE</td>\n",
       "      <td>24.0</td>\n",
       "      <td>SE</td>\n",
       "      <td>...</td>\n",
       "      <td>45.0</td>\n",
       "      <td>16.0</td>\n",
       "      <td>1017.6</td>\n",
       "      <td>1012.8</td>\n",
       "      <td>NaN</td>\n",
       "      <td>NaN</td>\n",
       "      <td>18.1</td>\n",
       "      <td>26.5</td>\n",
       "      <td>No</td>\n",
       "      <td>1.0</td>\n",
       "    </tr>\n",
       "    <tr>\n",
       "      <th>4</th>\n",
       "      <td>2008-12-05</td>\n",
       "      <td>Albury</td>\n",
       "      <td>17.5</td>\n",
       "      <td>32.3</td>\n",
       "      <td>1.0</td>\n",
       "      <td>NaN</td>\n",
       "      <td>NaN</td>\n",
       "      <td>W</td>\n",
       "      <td>41.0</td>\n",
       "      <td>ENE</td>\n",
       "      <td>...</td>\n",
       "      <td>82.0</td>\n",
       "      <td>33.0</td>\n",
       "      <td>1010.8</td>\n",
       "      <td>1006.0</td>\n",
       "      <td>7.0</td>\n",
       "      <td>8.0</td>\n",
       "      <td>17.8</td>\n",
       "      <td>29.7</td>\n",
       "      <td>No</td>\n",
       "      <td>0.2</td>\n",
       "    </tr>\n",
       "  </tbody>\n",
       "</table>\n",
       "<p>5 rows × 23 columns</p>\n",
       "</div>"
      ],
      "text/plain": [
       "         Date Location  MinTemp  MaxTemp  Rainfall  Evaporation  Sunshine  \\\n",
       "0  2008-12-01   Albury     13.4     22.9       0.6          NaN       NaN   \n",
       "1  2008-12-02   Albury      7.4     25.1       0.0          NaN       NaN   \n",
       "2  2008-12-03   Albury     12.9     25.7       0.0          NaN       NaN   \n",
       "3  2008-12-04   Albury      9.2     28.0       0.0          NaN       NaN   \n",
       "4  2008-12-05   Albury     17.5     32.3       1.0          NaN       NaN   \n",
       "\n",
       "  WindGustDir  WindGustSpeed WindDir9am  ... Humidity9am  Humidity3pm  \\\n",
       "0           W           44.0          W  ...        71.0         22.0   \n",
       "1         WNW           44.0        NNW  ...        44.0         25.0   \n",
       "2         WSW           46.0          W  ...        38.0         30.0   \n",
       "3          NE           24.0         SE  ...        45.0         16.0   \n",
       "4           W           41.0        ENE  ...        82.0         33.0   \n",
       "\n",
       "   Pressure9am  Pressure3pm  Cloud9am  Cloud3pm  Temp9am  Temp3pm  RainToday  \\\n",
       "0       1007.7       1007.1       8.0       NaN     16.9     21.8         No   \n",
       "1       1010.6       1007.8       NaN       NaN     17.2     24.3         No   \n",
       "2       1007.6       1008.7       NaN       2.0     21.0     23.2         No   \n",
       "3       1017.6       1012.8       NaN       NaN     18.1     26.5         No   \n",
       "4       1010.8       1006.0       7.0       8.0     17.8     29.7         No   \n",
       "\n",
       "   RISK_MM  \n",
       "0      0.0  \n",
       "1      0.0  \n",
       "2      0.0  \n",
       "3      1.0  \n",
       "4      0.2  \n",
       "\n",
       "[5 rows x 23 columns]"
      ]
     },
     "execution_count": 128,
     "metadata": {},
     "output_type": "execute_result"
    }
   ],
   "source": [
    "X.head()"
   ]
  },
  {
   "cell_type": "code",
   "execution_count": 129,
   "metadata": {},
   "outputs": [],
   "source": [
    "y = data.iloc[:,-1]"
   ]
  },
  {
   "cell_type": "code",
   "execution_count": 130,
   "metadata": {},
   "outputs": [
    {
     "data": {
      "text/plain": [
       "0    No\n",
       "1    No\n",
       "2    No\n",
       "3    No\n",
       "4    No\n",
       "Name: RainTomorrow, dtype: object"
      ]
     },
     "execution_count": 130,
     "metadata": {},
     "output_type": "execute_result"
    }
   ],
   "source": [
    "y.head()"
   ]
  },
  {
   "cell_type": "markdown",
   "metadata": {},
   "source": [
    "# Handling missing data - Numeric type"
   ]
  },
  {
   "cell_type": "code",
   "execution_count": 131,
   "metadata": {},
   "outputs": [],
   "source": [
    "import numpy as np\n",
    "from sklearn.impute import SimpleImputer\n",
    "imp_mean = SimpleImputer(missing_values=np.nan, strategy='mean')"
   ]
  },
  {
   "cell_type": "code",
   "execution_count": 132,
   "metadata": {},
   "outputs": [],
   "source": [
    "#X.dtypes"
   ]
  },
  {
   "cell_type": "code",
   "execution_count": 133,
   "metadata": {},
   "outputs": [],
   "source": [
    "numerical_cols = list(np.where((X.dtypes == np.int64) | (X.dtypes == np.float64))[0])"
   ]
  },
  {
   "cell_type": "code",
   "execution_count": 134,
   "metadata": {},
   "outputs": [
    {
     "data": {
      "text/plain": [
       "SimpleImputer()"
      ]
     },
     "execution_count": 134,
     "metadata": {},
     "output_type": "execute_result"
    }
   ],
   "source": [
    "imp_mean.fit(X.iloc[:,numerical_cols])"
   ]
  },
  {
   "cell_type": "code",
   "execution_count": 135,
   "metadata": {},
   "outputs": [],
   "source": [
    "X.iloc[:,numerical_cols] = imp_mean.transform(X.iloc[:,numerical_cols])"
   ]
  },
  {
   "cell_type": "markdown",
   "metadata": {},
   "source": [
    "### Handling missing string data"
   ]
  },
  {
   "cell_type": "code",
   "execution_count": 136,
   "metadata": {},
   "outputs": [],
   "source": [
    "string_cols = list(np.where((X.dtypes == np.object))[0])"
   ]
  },
  {
   "cell_type": "code",
   "execution_count": 137,
   "metadata": {},
   "outputs": [],
   "source": [
    "imp_mean = SimpleImputer(missing_values=np.nan, strategy='most_frequent')"
   ]
  },
  {
   "cell_type": "code",
   "execution_count": 138,
   "metadata": {},
   "outputs": [
    {
     "data": {
      "text/plain": [
       "SimpleImputer(strategy='most_frequent')"
      ]
     },
     "execution_count": 138,
     "metadata": {},
     "output_type": "execute_result"
    }
   ],
   "source": [
    "imp_mean.fit(X.iloc[:,string_cols])"
   ]
  },
  {
   "cell_type": "code",
   "execution_count": 139,
   "metadata": {},
   "outputs": [],
   "source": [
    "X.iloc[:,string_cols] = imp_mean.transform(X.iloc[:,string_cols])"
   ]
  },
  {
   "cell_type": "code",
   "execution_count": null,
   "metadata": {},
   "outputs": [],
   "source": []
  },
  {
   "cell_type": "markdown",
   "metadata": {},
   "source": [
    "# One Hot encoder method"
   ]
  },
  {
   "cell_type": "code",
   "execution_count": 140,
   "metadata": {},
   "outputs": [],
   "source": [
    "def OneHotEncoderMethod(indices, data):\n",
    "    from sklearn.compose import ColumnTransformer\n",
    "    from sklearn.preprocessing import OneHotEncoder\n",
    "    columnTransformer = ColumnTransformer([('encoder', OneHotEncoder(),indices )], remainder='passthrough')\n",
    "    return columnTransformer.fit_transform(data)"
   ]
  },
  {
   "cell_type": "markdown",
   "metadata": {},
   "source": [
    "# Label encoding method"
   ]
  },
  {
   "cell_type": "code",
   "execution_count": 141,
   "metadata": {},
   "outputs": [],
   "source": [
    "def LabelEncoderMethod(series):\n",
    "    from sklearn import preprocessing\n",
    "    le = preprocessing.LabelEncoder()\n",
    "    return le.fit_transform(series) "
   ]
  },
  {
   "cell_type": "code",
   "execution_count": null,
   "metadata": {},
   "outputs": [],
   "source": []
  },
  {
   "cell_type": "markdown",
   "metadata": {},
   "source": [
    "# Label encoding target feature"
   ]
  },
  {
   "cell_type": "code",
   "execution_count": 142,
   "metadata": {},
   "outputs": [],
   "source": [
    "y = LabelEncoderMethod(y)"
   ]
  },
  {
   "cell_type": "markdown",
   "metadata": {},
   "source": [
    "# Encoding selection for X"
   ]
  },
  {
   "cell_type": "code",
   "execution_count": 143,
   "metadata": {},
   "outputs": [],
   "source": [
    "def EncodingSelection(X, threshold=10):\n",
    "    # Step 01 : Select the string col\n",
    "    string_cols = list(np.where((X.dtypes == np.object))[0])\n",
    "    one_hot_encoding_indices = []\n",
    "    \n",
    "    # Step 02: The number of categoty is 2 and more than threshold, label encode\n",
    "    for col in string_cols:\n",
    "        lenght = len(pd.unique(X[X.columns[col]]))\n",
    "        if lenght == 2 or lenght > threshold:\n",
    "            X[X.columns[col]] = LabelEncoderMethod(X[X.columns[col]])\n",
    "        else:\n",
    "            one_hot_encoding_indices.append(col)\n",
    "            \n",
    "    # Step 03: One hot encode otherwise \n",
    "    X = OneHotEncoderMethod(one_hot_encoding_indices, X)\n",
    "    return X"
   ]
  },
  {
   "cell_type": "code",
   "execution_count": 144,
   "metadata": {},
   "outputs": [],
   "source": [
    "X = EncodingSelection(X)"
   ]
  },
  {
   "cell_type": "code",
   "execution_count": 145,
   "metadata": {},
   "outputs": [
    {
     "data": {
      "text/plain": [
       "(142193, 23)"
      ]
     },
     "execution_count": 145,
     "metadata": {},
     "output_type": "execute_result"
    }
   ],
   "source": [
    "X.shape"
   ]
  },
  {
   "cell_type": "markdown",
   "metadata": {},
   "source": [
    "# Feature selection"
   ]
  },
  {
   "cell_type": "code",
   "execution_count": 146,
   "metadata": {},
   "outputs": [],
   "source": [
    "from sklearn.feature_selection import SelectKBest, chi2"
   ]
  },
  {
   "cell_type": "code",
   "execution_count": 147,
   "metadata": {},
   "outputs": [],
   "source": [
    "from sklearn import preprocessing"
   ]
  },
  {
   "cell_type": "code",
   "execution_count": 148,
   "metadata": {},
   "outputs": [],
   "source": [
    "MMS = preprocessing.MinMaxScaler()"
   ]
  },
  {
   "cell_type": "code",
   "execution_count": 149,
   "metadata": {},
   "outputs": [],
   "source": [
    "X1 = MMS.fit_transform(X)"
   ]
  },
  {
   "cell_type": "code",
   "execution_count": 150,
   "metadata": {},
   "outputs": [],
   "source": [
    "kbest = SelectKBest(chi2,k=5)"
   ]
  },
  {
   "cell_type": "code",
   "execution_count": 151,
   "metadata": {},
   "outputs": [],
   "source": [
    "selection = kbest.fit(X1,y)"
   ]
  },
  {
   "cell_type": "code",
   "execution_count": 152,
   "metadata": {},
   "outputs": [],
   "source": [
    "scores = selection.scores_"
   ]
  },
  {
   "cell_type": "code",
   "execution_count": 171,
   "metadata": {},
   "outputs": [
    {
     "name": "stdout",
     "output_type": "stream",
     "text": [
      "0.3240258472\n",
      "2.0239855988\n",
      "3.3998480174\n",
      "14.4304187803\n",
      "23.3833175184\n",
      "35.3260440639\n",
      "46.3778834304\n",
      "50.1487007502\n",
      "50.3829041733\n",
      "74.0417640946\n",
      "122.6872264546\n",
      "122.6896860575\n",
      "157.6794979143\n",
      "172.2261129221\n",
      "284.1025812089\n",
      "481.9740845396\n",
      "649.2752204363\n",
      "1028.8204495892\n",
      "1190.5670665674\n",
      "1415.9775291935\n",
      "2250.8683684183\n",
      "2934.6949412418\n",
      "10406.6992321974\n"
     ]
    }
   ],
   "source": [
    "for i in sorted_scores:\n",
    "    print ('{0:.10f}'.format(i)) "
   ]
  },
  {
   "cell_type": "code",
   "execution_count": 154,
   "metadata": {},
   "outputs": [],
   "source": [
    "best_features = scores.argsort()[-10:]"
   ]
  },
  {
   "cell_type": "code",
   "execution_count": 155,
   "metadata": {},
   "outputs": [
    {
     "data": {
      "text/plain": [
       "array([ 1,  0, 19,  5, 10,  9,  2, 11, 12,  7,  3, 16, 15, 20,  8, 13,  4,\n",
       "        6, 17, 18, 14, 22, 21], dtype=int64)"
      ]
     },
     "execution_count": 155,
     "metadata": {},
     "output_type": "execute_result"
    }
   ],
   "source": [
    "scores.argsort()"
   ]
  },
  {
   "cell_type": "code",
   "execution_count": 156,
   "metadata": {},
   "outputs": [
    {
     "data": {
      "text/plain": [
       "array([20,  8, 13,  4,  6, 17, 18, 14, 22, 21], dtype=int64)"
      ]
     },
     "execution_count": 156,
     "metadata": {},
     "output_type": "execute_result"
    }
   ],
   "source": [
    "best_features"
   ]
  },
  {
   "cell_type": "code",
   "execution_count": 164,
   "metadata": {},
   "outputs": [],
   "source": [
    "abc = scores.argsort()[:-10]"
   ]
  },
  {
   "cell_type": "code",
   "execution_count": 165,
   "metadata": {},
   "outputs": [
    {
     "data": {
      "text/plain": [
       "array([ 1,  0, 19,  5, 10,  9,  2, 11, 12,  7,  3, 16, 15], dtype=int64)"
      ]
     },
     "execution_count": 165,
     "metadata": {},
     "output_type": "execute_result"
    }
   ],
   "source": [
    "abc"
   ]
  },
  {
   "cell_type": "code",
   "execution_count": 157,
   "metadata": {},
   "outputs": [
    {
     "data": {
      "text/plain": [
       "(142193, 23)"
      ]
     },
     "execution_count": 157,
     "metadata": {},
     "output_type": "execute_result"
    }
   ],
   "source": [
    "X1.shape"
   ]
  },
  {
   "cell_type": "code",
   "execution_count": 167,
   "metadata": {},
   "outputs": [
    {
     "data": {
      "text/plain": [
       "(142193, 10)"
      ]
     },
     "execution_count": 167,
     "metadata": {},
     "output_type": "execute_result"
    }
   ],
   "source": [
    "np.delete(X1, abc, axis=1).shape"
   ]
  },
  {
   "cell_type": "code",
   "execution_count": 160,
   "metadata": {},
   "outputs": [
    {
     "name": "stdout",
     "output_type": "stream",
     "text": [
      "[[0.11528384 0.04166667 0.51650943 ... 0.52207294 0.         0.        ]\n",
      " [0.11557496 0.04166667 0.375      ... 0.57005758 0.         0.        ]\n",
      " [0.11586608 0.04166667 0.50471698 ... 0.54894434 0.         0.        ]\n",
      " ...\n",
      " [0.99912664 0.85416667 0.28537736 ... 0.57389635 0.         0.        ]\n",
      " [0.99941776 0.85416667 0.32783019 ... 0.60460653 0.         0.        ]\n",
      " [0.99970888 0.85416667 0.38443396 ... 0.60268714 0.         0.        ]]\n"
     ]
    }
   ],
   "source": [
    "print(X1)"
   ]
  },
  {
   "cell_type": "code",
   "execution_count": 170,
   "metadata": {},
   "outputs": [],
   "source": [
    "sorted_scores = np.sort(scores)"
   ]
  },
  {
   "cell_type": "code",
   "execution_count": null,
   "metadata": {},
   "outputs": [],
   "source": []
  },
  {
   "cell_type": "code",
   "execution_count": null,
   "metadata": {},
   "outputs": [],
   "source": []
  },
  {
   "cell_type": "markdown",
   "metadata": {},
   "source": [
    "# Train test split"
   ]
  },
  {
   "cell_type": "code",
   "execution_count": 106,
   "metadata": {},
   "outputs": [],
   "source": [
    "import numpy as np\n",
    "from sklearn.model_selection import train_test_split"
   ]
  },
  {
   "cell_type": "code",
   "execution_count": 107,
   "metadata": {},
   "outputs": [],
   "source": [
    "X_train, X_test, y_train, y_test = train_test_split(X, y, test_size=0.20, random_state=1)"
   ]
  },
  {
   "cell_type": "code",
   "execution_count": 108,
   "metadata": {},
   "outputs": [
    {
     "name": "stdout",
     "output_type": "stream",
     "text": [
      "(164, 199)\n"
     ]
    }
   ],
   "source": [
    "print(X_train.shape)"
   ]
  },
  {
   "cell_type": "markdown",
   "metadata": {},
   "source": [
    "# Feature scaling"
   ]
  },
  {
   "cell_type": "markdown",
   "metadata": {},
   "source": [
    "### Standardization: (X - mean(X)) / std(X)"
   ]
  },
  {
   "cell_type": "markdown",
   "metadata": {},
   "source": [
    "### Normalization = (x - min(x)) / (max(x) - min(x))"
   ]
  },
  {
   "cell_type": "code",
   "execution_count": 109,
   "metadata": {},
   "outputs": [],
   "source": [
    "from sklearn import preprocessing"
   ]
  },
  {
   "cell_type": "code",
   "execution_count": 112,
   "metadata": {},
   "outputs": [],
   "source": [
    "sc = preprocessing.StandardScaler(with_mean=False)"
   ]
  },
  {
   "cell_type": "code",
   "execution_count": 113,
   "metadata": {},
   "outputs": [
    {
     "data": {
      "text/plain": [
       "StandardScaler(with_mean=False)"
      ]
     },
     "execution_count": 113,
     "metadata": {},
     "output_type": "execute_result"
    }
   ],
   "source": [
    "sc.fit(X_train)"
   ]
  },
  {
   "cell_type": "code",
   "execution_count": 114,
   "metadata": {},
   "outputs": [],
   "source": [
    "X_train = sc.transform(X_train)"
   ]
  },
  {
   "cell_type": "code",
   "execution_count": 115,
   "metadata": {},
   "outputs": [
    {
     "name": "stdout",
     "output_type": "stream",
     "text": [
      "(164, 199)\n"
     ]
    }
   ],
   "source": [
    "print(X_train.shape)"
   ]
  },
  {
   "cell_type": "code",
   "execution_count": 116,
   "metadata": {},
   "outputs": [],
   "source": [
    "X_test = sc.transform(X_test)"
   ]
  },
  {
   "cell_type": "code",
   "execution_count": 117,
   "metadata": {},
   "outputs": [
    {
     "name": "stdout",
     "output_type": "stream",
     "text": [
      "(41, 199)\n"
     ]
    }
   ],
   "source": [
    "print(X_test.shape)"
   ]
  },
  {
   "cell_type": "markdown",
   "metadata": {},
   "source": [
    "#### The data is ready!!"
   ]
  },
  {
   "cell_type": "markdown",
   "metadata": {},
   "source": [
    "# Building Linear model"
   ]
  },
  {
   "cell_type": "code",
   "execution_count": 122,
   "metadata": {},
   "outputs": [
    {
     "data": {
      "text/plain": [
       "0.09741670577134398"
      ]
     },
     "execution_count": 122,
     "metadata": {},
     "output_type": "execute_result"
    }
   ],
   "source": [
    "from sklearn.linear_model import LinearRegression\n",
    "from sklearn.metrics import r2_score\n",
    "model = LinearRegression()\n",
    "model.fit(X_train,y_train)\n",
    "y_pred = model.predict(X_test)\n",
    "r2_score(y_test, y_pred)"
   ]
  },
  {
   "cell_type": "markdown",
   "metadata": {},
   "source": [
    "# Building Polynomial Linear regression model"
   ]
  },
  {
   "cell_type": "code",
   "execution_count": 123,
   "metadata": {},
   "outputs": [
    {
     "data": {
      "text/plain": [
       "-0.4531422286977287"
      ]
     },
     "execution_count": 123,
     "metadata": {},
     "output_type": "execute_result"
    }
   ],
   "source": [
    "from sklearn.linear_model import LinearRegression\n",
    "from sklearn.preprocessing import PolynomialFeatures\n",
    "model = LinearRegression()\n",
    "poly = PolynomialFeatures(degree = 2)\n",
    "X_train_poly = poly.fit_transform(X_train)\n",
    "model.fit(X_train_poly,y_train)\n",
    "X_test_poly = poly.fit_transform(X_test)\n",
    "y_pred = model.predict(X_test_poly)\n",
    "r2_score(y_test, y_pred)"
   ]
  },
  {
   "cell_type": "markdown",
   "metadata": {},
   "source": [
    "# Building Decision Tree model"
   ]
  },
  {
   "cell_type": "code",
   "execution_count": 124,
   "metadata": {},
   "outputs": [
    {
     "data": {
      "text/plain": [
       "0.883961900453219"
      ]
     },
     "execution_count": 124,
     "metadata": {},
     "output_type": "execute_result"
    }
   ],
   "source": [
    "from sklearn.tree import DecisionTreeRegressor\n",
    "model = DecisionTreeRegressor(max_depth = 4)\n",
    "model.fit(X_train,y_train)\n",
    "y_pred = model.predict(X_test)\n",
    "r2_score(y_test, y_pred)"
   ]
  },
  {
   "cell_type": "markdown",
   "metadata": {},
   "source": [
    "# Building Random forest Tree model"
   ]
  },
  {
   "cell_type": "code",
   "execution_count": 125,
   "metadata": {},
   "outputs": [
    {
     "data": {
      "text/plain": [
       "0.9107611439295349"
      ]
     },
     "execution_count": 125,
     "metadata": {},
     "output_type": "execute_result"
    }
   ],
   "source": [
    "from sklearn.ensemble import RandomForestRegressor\n",
    "model = RandomForestRegressor(n_estimators= 25, random_state = 10)\n",
    "model.fit(X_train,y_train)\n",
    "y_pred = model.predict(X_test)\n",
    "r2_score(y_test, y_pred)"
   ]
  },
  {
   "cell_type": "markdown",
   "metadata": {},
   "source": [
    "# Building AdaBoost model"
   ]
  },
  {
   "cell_type": "code",
   "execution_count": 126,
   "metadata": {},
   "outputs": [
    {
     "data": {
      "text/plain": [
       "0.8806696893560713"
      ]
     },
     "execution_count": 126,
     "metadata": {},
     "output_type": "execute_result"
    }
   ],
   "source": [
    "from sklearn.ensemble import AdaBoostRegressor\n",
    "model = AdaBoostRegressor(random_state=0, n_estimators=100)\n",
    "model.fit(X_train,y_train)\n",
    "y_pred = model.predict(X_test)\n",
    "r2_score(y_test, y_pred)"
   ]
  },
  {
   "cell_type": "markdown",
   "metadata": {},
   "source": [
    "# Building XGBoost model"
   ]
  },
  {
   "cell_type": "code",
   "execution_count": 128,
   "metadata": {},
   "outputs": [
    {
     "data": {
      "text/plain": [
       "0.8947431439987505"
      ]
     },
     "execution_count": 128,
     "metadata": {},
     "output_type": "execute_result"
    }
   ],
   "source": [
    "import xgboost as xgb\n",
    "\n",
    "model = xgb.XGBRegressor(\n",
    "    n_estimators=100,\n",
    "    reg_lambda=1,\n",
    "    gamma=0,\n",
    "    max_depth=3,\n",
    "    learning_rate=0.05\n",
    ")\n",
    "model.fit(X_train,y_train)\n",
    "y_pred = model.predict(X_test)\n",
    "r2_score(y_test, y_pred)"
   ]
  },
  {
   "cell_type": "markdown",
   "metadata": {},
   "source": [
    "# Building SVM model\n"
   ]
  },
  {
   "cell_type": "code",
   "execution_count": 129,
   "metadata": {},
   "outputs": [
    {
     "data": {
      "text/plain": [
       "-0.02713944090388254"
      ]
     },
     "execution_count": 129,
     "metadata": {},
     "output_type": "execute_result"
    }
   ],
   "source": [
    "from sklearn.svm import SVR\n",
    "model = SVR()\n",
    "model.fit(X_train,y_train)\n",
    "y_pred = model.predict(X_test)\n",
    "r2_score(y_test, y_pred)"
   ]
  },
  {
   "cell_type": "code",
   "execution_count": null,
   "metadata": {},
   "outputs": [],
   "source": []
  }
 ],
 "metadata": {
  "kernelspec": {
   "display_name": "Python 3",
   "language": "python",
   "name": "python3"
  },
  "language_info": {
   "codemirror_mode": {
    "name": "ipython",
    "version": 3
   },
   "file_extension": ".py",
   "mimetype": "text/x-python",
   "name": "python",
   "nbconvert_exporter": "python",
   "pygments_lexer": "ipython3",
   "version": "3.8.3"
  }
 },
 "nbformat": 4,
 "nbformat_minor": 4
}
