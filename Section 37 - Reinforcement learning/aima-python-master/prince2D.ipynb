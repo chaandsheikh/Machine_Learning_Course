{
 "cells": [
  {
   "cell_type": "code",
   "execution_count": 2,
   "metadata": {},
   "outputs": [],
   "source": [
    "from agents import *\n",
    "from notebook import psource\n",
    "    "
   ]
  },
  {
   "cell_type": "code",
   "execution_count": 3,
   "metadata": {},
   "outputs": [],
   "source": [
    "# Avoid the gaurd, of you meet the gaurd then there will be panety of 10 points. If the agent doesn't have 10 points, agent is dead\n",
    "class Gaurd(Thing):\n",
    "    pass\n",
    "\n",
    "# You will hear noise when gaurd is in neighbour location \n",
    "class Noise(Thing):\n",
    "    pass\n",
    "\n",
    "# Collect at least one rose before you meet the princess, rose with give you +5 points\n",
    "class Rose(Thing):\n",
    "    pass\n",
    "\n",
    "# Fragrance will be present in the neighbouring feilds of rose\n",
    "class Fragrance(Thing):\n",
    "    pass\n",
    "\n",
    "# Agent should have 10 points and atleast one rose to meet the, else princess will kill the agent\n",
    "class princess(Thing):\n",
    "    pass\n",
    "\n",
    "    "
   ]
  },
  {
   "cell_type": "code",
   "execution_count": 4,
   "metadata": {},
   "outputs": [],
   "source": [
    "def program(percepts):\n",
    "    '''Returns an action based on it's percepts'''\n",
    "        \n",
    "    for p in percepts: # first eat or drink - you're a dog!\n",
    "        if isinstance(p, Gaurd):\n",
    "            return 'Gaurd'\n",
    "        elif isinstance(p, Noise):\n",
    "            return 'Noise'\n",
    "    else:\n",
    "        return 'moveforward'"
   ]
  },
  {
   "cell_type": "code",
   "execution_count": null,
   "metadata": {},
   "outputs": [],
   "source": [
    "class Map2D(GraphicEnvironment):\n",
    "    def percept(self, agent):\n",
    "        '''return a list of things that are in our agent's location'''\n",
    "        things = self.list_things_at(agent.location)\n",
    "        return things\n",
    "    \n",
    "    def execute_action(self, agent, action):\n",
    "        \"Move forward with respect of the direction\"\n",
    "        if action == \"moveforward\":\n",
    "            print('{} decided to {} at location: {}'.format(str(agent)[1:-1], action, agent.location))\n",
    "            agent.movedown()\n",
    "        elif action == \"Gaurd\":\n",
    "            print(\"Gurad ahead\")\n",
    "            agent.movedown()\n",
    "        elif action == \"Noise\":\n",
    "            print(\"Gurad ahead\")\n",
    "            agent.movedown()\n",
    "                    \n",
    "    def is_done(self):\n",
    "        '''By default, we're done when we can't find a live agent, \n",
    "        but to prevent killing our cute dog, we will stop before itself - when there is no more food or water'''\n",
    "        no_edibles = not any(isinstance(thing, Food) or isinstance(thing, Water) for thing in self.things)\n",
    "        dead_agents = not any(agent.is_alive() for agent in self.agents)\n",
    "        return dead_agents or no_edibles"
   ]
  },
  {
   "cell_type": "code",
   "execution_count": null,
   "metadata": {},
   "outputs": [],
   "source": [
    "map2d = Map2D(5,5, color={'EnergeticBlindDog': (200,0,0), 'Gaurd': (0, 200, 200), 'Noise': (230, 115, 40)})\n",
    "dog = EnergeticBlindDog(program)\n",
    "dogfood = Food()\n",
    "water = Water()\n",
    "park.add_thing(dog, [0,0])\n",
    "park.add_thing(dogfood, [1,2])\n",
    "park.add_thing(water, [0,1])\n",
    "morewater = Water()\n",
    "morefood = Food()\n",
    "park.add_thing(morewater, [2,4])\n",
    "park.add_thing(morefood, [4,3])\n",
    "print(\"dog started at [0,0], facing down. Let's see if he found any food or water!\")\n",
    "park.run(200)"
   ]
  },
  {
   "cell_type": "code",
   "execution_count": null,
   "metadata": {},
   "outputs": [],
   "source": []
  },
  {
   "cell_type": "code",
   "execution_count": null,
   "metadata": {},
   "outputs": [],
   "source": []
  }
 ],
 "metadata": {
  "kernelspec": {
   "display_name": "Python 3",
   "language": "python",
   "name": "python3"
  },
  "language_info": {
   "codemirror_mode": {
    "name": "ipython",
    "version": 3
   },
   "file_extension": ".py",
   "mimetype": "text/x-python",
   "name": "python",
   "nbconvert_exporter": "python",
   "pygments_lexer": "ipython3",
   "version": "3.7.3"
  }
 },
 "nbformat": 4,
 "nbformat_minor": 2
}
