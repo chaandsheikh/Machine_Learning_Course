{
 "cells": [
  {
   "cell_type": "markdown",
   "metadata": {},
   "source": [
    "# Dataset: https://www.kaggle.com/heeraldedhia/groceries-dataset"
   ]
  },
  {
   "cell_type": "code",
   "execution_count": 110,
   "metadata": {},
   "outputs": [
    {
     "name": "stdout",
     "output_type": "stream",
     "text": [
      "Requirement already satisfied: apyori in c:\\users\\chaand\\anaconda3\\lib\\site-packages (1.1.2)\n"
     ]
    }
   ],
   "source": [
    "!pip install apyori\n",
    "import numpy as np\n",
    "import matplotlib.pyplot as plt\n",
    "import pandas as pd"
   ]
  },
  {
   "cell_type": "code",
   "execution_count": 111,
   "metadata": {},
   "outputs": [
    {
     "data": {
      "text/html": [
       "<div>\n",
       "<style scoped>\n",
       "    .dataframe tbody tr th:only-of-type {\n",
       "        vertical-align: middle;\n",
       "    }\n",
       "\n",
       "    .dataframe tbody tr th {\n",
       "        vertical-align: top;\n",
       "    }\n",
       "\n",
       "    .dataframe thead th {\n",
       "        text-align: right;\n",
       "    }\n",
       "</style>\n",
       "<table border=\"1\" class=\"dataframe\">\n",
       "  <thead>\n",
       "    <tr style=\"text-align: right;\">\n",
       "      <th></th>\n",
       "      <th>Member_number</th>\n",
       "      <th>Date</th>\n",
       "      <th>itemDescription</th>\n",
       "    </tr>\n",
       "  </thead>\n",
       "  <tbody>\n",
       "    <tr>\n",
       "      <th>0</th>\n",
       "      <td>1808</td>\n",
       "      <td>21-07-2015</td>\n",
       "      <td>tropical fruit</td>\n",
       "    </tr>\n",
       "    <tr>\n",
       "      <th>1</th>\n",
       "      <td>2552</td>\n",
       "      <td>05-01-2015</td>\n",
       "      <td>whole milk</td>\n",
       "    </tr>\n",
       "    <tr>\n",
       "      <th>2</th>\n",
       "      <td>2300</td>\n",
       "      <td>19-09-2015</td>\n",
       "      <td>pip fruit</td>\n",
       "    </tr>\n",
       "    <tr>\n",
       "      <th>3</th>\n",
       "      <td>1187</td>\n",
       "      <td>12-12-2015</td>\n",
       "      <td>other vegetables</td>\n",
       "    </tr>\n",
       "    <tr>\n",
       "      <th>4</th>\n",
       "      <td>3037</td>\n",
       "      <td>01-02-2015</td>\n",
       "      <td>whole milk</td>\n",
       "    </tr>\n",
       "  </tbody>\n",
       "</table>\n",
       "</div>"
      ],
      "text/plain": [
       "   Member_number        Date   itemDescription\n",
       "0           1808  21-07-2015    tropical fruit\n",
       "1           2552  05-01-2015        whole milk\n",
       "2           2300  19-09-2015         pip fruit\n",
       "3           1187  12-12-2015  other vegetables\n",
       "4           3037  01-02-2015        whole milk"
      ]
     },
     "execution_count": 111,
     "metadata": {},
     "output_type": "execute_result"
    }
   ],
   "source": [
    "data=pd.read_csv(\"Groceries_dataset.csv\")\n",
    "data.head()"
   ]
  },
  {
   "cell_type": "code",
   "execution_count": 112,
   "metadata": {},
   "outputs": [
    {
     "data": {
      "text/plain": [
       "Member_number  Date      \n",
       "1000           15-03-2015           sausagewhole milksemi-finished breadyogurt\n",
       "               24-06-2014                          whole milkpastrysalty snack\n",
       "               24-07-2015                           canned beermisc. beverages\n",
       "               25-11-2015                              sausagehygiene articles\n",
       "               27-05-2015                               sodapickled vegetables\n",
       "                                                   ...                        \n",
       "4999           24-01-2015    tropical fruitberriesother vegetablesyogurtkit...\n",
       "               26-12-2015                                   bottled waterherbs\n",
       "5000           09-03-2014                          fruit/vegetable juiceonions\n",
       "               10-02-2015               sodaroot vegetablessemi-finished bread\n",
       "               16-11-2014                         bottled beerother vegetables\n",
       "Name: itemDescription, Length: 14963, dtype: object"
      ]
     },
     "execution_count": 112,
     "metadata": {},
     "output_type": "execute_result"
    }
   ],
   "source": [
    "data.groupby(['Member_number', 'Date'])['itemDescription'].apply(sum)"
   ]
  },
  {
   "cell_type": "code",
   "execution_count": 113,
   "metadata": {},
   "outputs": [],
   "source": [
    "transactions = []"
   ]
  },
  {
   "cell_type": "code",
   "execution_count": 114,
   "metadata": {},
   "outputs": [],
   "source": [
    "for basket in list(data.groupby(['Member_number','Date'])):\n",
    "    sublist = []\n",
    "    for item in basket[1]['itemDescription']:\n",
    "        sublist.append(item)\n",
    "    transactions.append(sublist)"
   ]
  },
  {
   "cell_type": "code",
   "execution_count": 115,
   "metadata": {},
   "outputs": [],
   "source": [
    "#transactions"
   ]
  },
  {
   "cell_type": "code",
   "execution_count": 116,
   "metadata": {},
   "outputs": [
    {
     "name": "stdout",
     "output_type": "stream",
     "text": [
      "Generating itemsets.\n",
      " Counting itemsets of length 1.\n",
      "  Found 167 candidate itemsets of length 1.\n",
      "  Found 165 large itemsets of length 1.\n",
      " Counting itemsets of length 2.\n",
      "  Found 13530 candidate itemsets of length 2.\n",
      "  Found 2880 large itemsets of length 2.\n",
      " Counting itemsets of length 3.\n",
      "  Found 39380 candidate itemsets of length 3.\n",
      "  Found 1299 large itemsets of length 3.\n",
      " Counting itemsets of length 4.\n",
      "  Found 845 candidate itemsets of length 4.\n",
      "  Found 50 large itemsets of length 4.\n",
      " Counting itemsets of length 5.\n",
      "  Found 1 candidate itemsets of length 5.\n",
      "  Found 1 large itemsets of length 5.\n",
      " Counting itemsets of length 6.\n",
      "  Found 0 candidate itemsets of length 6.\n",
      "Itemset generation terminated.\n",
      "\n",
      "Generating rules from itemsets.\n",
      " Generating rules of size 2.\n",
      " Generating rules of size 3.\n",
      " Generating rules of size 4.\n",
      " Generating rules of size 5.\n",
      "Rule generation terminated.\n",
      "\n"
     ]
    }
   ],
   "source": [
    "from efficient_apriori import apriori\n",
    "itemsets, rules = apriori(transactions, min_support=0.0002, min_confidence=1, verbosity=1)"
   ]
  },
  {
   "cell_type": "code",
   "execution_count": 117,
   "metadata": {},
   "outputs": [],
   "source": [
    "#itemsets"
   ]
  },
  {
   "cell_type": "code",
   "execution_count": 118,
   "metadata": {},
   "outputs": [
    {
     "data": {
      "text/plain": [
       "[{canned vegetables, domestic eggs} -> {whole milk},\n",
       " {flower (seeds), pork} -> {whole milk},\n",
       " {house keeping products, other vegetables} -> {whole milk},\n",
       " {house keeping products, margarine} -> {whole milk},\n",
       " {butter, processed cheese} -> {whole milk},\n",
       " {canned beer, citrus fruit, yogurt} -> {whole milk},\n",
       " {canned beer, tropical fruit, yogurt} -> {whole milk},\n",
       " {pastry, rolls/buns, sausage} -> {whole milk},\n",
       " {chicken, cream cheese , specialty chocolate} -> {citrus fruit},\n",
       " {chicken, citrus fruit, cream cheese } -> {specialty chocolate},\n",
       " {citrus fruit, curd, pastry} -> {other vegetables},\n",
       " {citrus fruit, other vegetables, tropical fruit} -> {whole milk},\n",
       " {coffee, sausage, soda} -> {frankfurter},\n",
       " {coffee, frankfurter, sausage} -> {soda},\n",
       " {butter milk, canned beer, sausage} -> {yogurt},\n",
       " {citrus fruit, rolls/buns, whipped/sour cream} -> {whole milk},\n",
       " {domestic eggs, root vegetables, whole milk} -> {other vegetables},\n",
       " {butter, rolls/buns, shopping bags} -> {soda},\n",
       " {frankfurter, root vegetables, soda} -> {hamburger meat},\n",
       " {frankfurter, hamburger meat, soda} -> {root vegetables},\n",
       " {frankfurter, hamburger meat, root vegetables} -> {soda},\n",
       " {other vegetables, tropical fruit, whipped/sour cream} -> {sausage},\n",
       " {canned beer, hygiene articles, soda} -> {whole milk},\n",
       " {pork, soda, whole milk, yogurt} -> {sausage},\n",
       " {pork, sausage, soda, yogurt} -> {whole milk}]"
      ]
     },
     "execution_count": 118,
     "metadata": {},
     "output_type": "execute_result"
    }
   ],
   "source": [
    "rules"
   ]
  },
  {
   "cell_type": "code",
   "execution_count": null,
   "metadata": {},
   "outputs": [],
   "source": []
  },
  {
   "cell_type": "code",
   "execution_count": null,
   "metadata": {},
   "outputs": [],
   "source": []
  },
  {
   "cell_type": "code",
   "execution_count": null,
   "metadata": {},
   "outputs": [],
   "source": []
  },
  {
   "cell_type": "code",
   "execution_count": null,
   "metadata": {},
   "outputs": [],
   "source": []
  },
  {
   "cell_type": "code",
   "execution_count": null,
   "metadata": {},
   "outputs": [],
   "source": []
  },
  {
   "cell_type": "code",
   "execution_count": null,
   "metadata": {},
   "outputs": [],
   "source": []
  },
  {
   "cell_type": "code",
   "execution_count": null,
   "metadata": {},
   "outputs": [],
   "source": []
  },
  {
   "cell_type": "code",
   "execution_count": null,
   "metadata": {},
   "outputs": [],
   "source": []
  },
  {
   "cell_type": "code",
   "execution_count": null,
   "metadata": {},
   "outputs": [],
   "source": []
  },
  {
   "cell_type": "code",
   "execution_count": null,
   "metadata": {},
   "outputs": [],
   "source": []
  }
 ],
 "metadata": {
  "kernelspec": {
   "display_name": "Python 3",
   "language": "python",
   "name": "python3"
  },
  "language_info": {
   "codemirror_mode": {
    "name": "ipython",
    "version": 3
   },
   "file_extension": ".py",
   "mimetype": "text/x-python",
   "name": "python",
   "nbconvert_exporter": "python",
   "pygments_lexer": "ipython3",
   "version": "3.8.5"
  }
 },
 "nbformat": 4,
 "nbformat_minor": 4
}
