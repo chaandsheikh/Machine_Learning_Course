{
 "cells": [
  {
   "cell_type": "markdown",
   "metadata": {},
   "source": [
    "# Data: https://www.kaggle.com/jsphyg/weather-dataset-rattle-package?select=weatherAUS.csv"
   ]
  },
  {
   "cell_type": "markdown",
   "metadata": {},
   "source": [
    "# Import data"
   ]
  },
  {
   "cell_type": "code",
   "execution_count": 602,
   "metadata": {},
   "outputs": [],
   "source": [
    "import pandas as pd \n",
    "import seaborn as sns"
   ]
  },
  {
   "cell_type": "code",
   "execution_count": 603,
   "metadata": {},
   "outputs": [],
   "source": [
    "data = pd.read_csv('bangla.csv')"
   ]
  },
  {
   "cell_type": "code",
   "execution_count": 604,
   "metadata": {},
   "outputs": [
    {
     "data": {
      "text/html": [
       "<div>\n",
       "<style scoped>\n",
       "    .dataframe tbody tr th:only-of-type {\n",
       "        vertical-align: middle;\n",
       "    }\n",
       "\n",
       "    .dataframe tbody tr th {\n",
       "        vertical-align: top;\n",
       "    }\n",
       "\n",
       "    .dataframe thead th {\n",
       "        text-align: right;\n",
       "    }\n",
       "</style>\n",
       "<table border=\"1\" class=\"dataframe\">\n",
       "  <thead>\n",
       "    <tr style=\"text-align: right;\">\n",
       "      <th></th>\n",
       "      <th>file_name</th>\n",
       "      <th>zero_crossing</th>\n",
       "      <th>spectral_centroid</th>\n",
       "      <th>spectral_rolloff</th>\n",
       "      <th>spectral_bandwidth</th>\n",
       "      <th>chroma_frequency</th>\n",
       "      <th>rmse</th>\n",
       "      <th>delta</th>\n",
       "      <th>melspectogram</th>\n",
       "      <th>tempo</th>\n",
       "      <th>...</th>\n",
       "      <th>mfcc11</th>\n",
       "      <th>mfcc12</th>\n",
       "      <th>mfcc13</th>\n",
       "      <th>mfcc14</th>\n",
       "      <th>mfcc15</th>\n",
       "      <th>mfcc16</th>\n",
       "      <th>mfcc17</th>\n",
       "      <th>mfcc18</th>\n",
       "      <th>mfcc19</th>\n",
       "      <th>label</th>\n",
       "    </tr>\n",
       "  </thead>\n",
       "  <tbody>\n",
       "    <tr>\n",
       "      <th>1737</th>\n",
       "      <td>Tumi Robe Nirobe, Artist - DWIJEN  MUKHOPADHYA...</td>\n",
       "      <td>78516</td>\n",
       "      <td>800.797115</td>\n",
       "      <td>1436.990088</td>\n",
       "      <td>1090.389766</td>\n",
       "      <td>0.227325</td>\n",
       "      <td>0.108344</td>\n",
       "      <td>2.078194e-08</td>\n",
       "      <td>3.020211</td>\n",
       "      <td>117.453835</td>\n",
       "      <td>...</td>\n",
       "      <td>-2.615630</td>\n",
       "      <td>2.119485</td>\n",
       "      <td>-12.506942</td>\n",
       "      <td>-1.148996</td>\n",
       "      <td>0.090582</td>\n",
       "      <td>-8.694072</td>\n",
       "      <td>-6.597594</td>\n",
       "      <td>2.925687</td>\n",
       "      <td>-6.154576</td>\n",
       "      <td>rabindra</td>\n",
       "    </tr>\n",
       "    <tr>\n",
       "      <th>1738</th>\n",
       "      <td>TUMI SANDHYAR MEGHMALA  Srikanta Acharya  Rabi...</td>\n",
       "      <td>176887</td>\n",
       "      <td>1734.844686</td>\n",
       "      <td>3464.133429</td>\n",
       "      <td>1954.831684</td>\n",
       "      <td>0.271189</td>\n",
       "      <td>0.124934</td>\n",
       "      <td>5.785562e-08</td>\n",
       "      <td>4.098559</td>\n",
       "      <td>129.199219</td>\n",
       "      <td>...</td>\n",
       "      <td>1.693247</td>\n",
       "      <td>-4.076407</td>\n",
       "      <td>-2.017894</td>\n",
       "      <td>-7.419591</td>\n",
       "      <td>-0.488603</td>\n",
       "      <td>-8.690254</td>\n",
       "      <td>-7.090489</td>\n",
       "      <td>-6.530357</td>\n",
       "      <td>-5.593533</td>\n",
       "      <td>rabindra</td>\n",
       "    </tr>\n",
       "    <tr>\n",
       "      <th>1739</th>\n",
       "      <td>Utal Haowa Laglo Amar Gaaner Taranite  Sagar S...</td>\n",
       "      <td>133326</td>\n",
       "      <td>1380.139172</td>\n",
       "      <td>2745.410904</td>\n",
       "      <td>1775.717428</td>\n",
       "      <td>0.263462</td>\n",
       "      <td>0.111411</td>\n",
       "      <td>4.204189e-08</td>\n",
       "      <td>3.147722</td>\n",
       "      <td>143.554688</td>\n",
       "      <td>...</td>\n",
       "      <td>2.487961</td>\n",
       "      <td>-3.434017</td>\n",
       "      <td>-6.099467</td>\n",
       "      <td>-6.008315</td>\n",
       "      <td>-7.483330</td>\n",
       "      <td>-2.908477</td>\n",
       "      <td>0.783345</td>\n",
       "      <td>-3.394053</td>\n",
       "      <td>-3.157621</td>\n",
       "      <td>rabindra</td>\n",
       "    </tr>\n",
       "    <tr>\n",
       "      <th>1740</th>\n",
       "      <td>venge mor ghorer chabi by anima roy.. album ro...</td>\n",
       "      <td>179932</td>\n",
       "      <td>1961.435018</td>\n",
       "      <td>4141.554401</td>\n",
       "      <td>2324.507425</td>\n",
       "      <td>0.261823</td>\n",
       "      <td>0.168673</td>\n",
       "      <td>3.245319e-07</td>\n",
       "      <td>7.674615</td>\n",
       "      <td>143.554688</td>\n",
       "      <td>...</td>\n",
       "      <td>1.192605</td>\n",
       "      <td>-13.142963</td>\n",
       "      <td>0.281834</td>\n",
       "      <td>-5.981567</td>\n",
       "      <td>-1.066383</td>\n",
       "      <td>0.677886</td>\n",
       "      <td>0.803132</td>\n",
       "      <td>-3.304548</td>\n",
       "      <td>4.309490</td>\n",
       "      <td>rabindra</td>\n",
       "    </tr>\n",
       "    <tr>\n",
       "      <th>1741</th>\n",
       "      <td>vora thak vora thak by anima roy ( 160kbps ).mp3</td>\n",
       "      <td>175244</td>\n",
       "      <td>1878.657768</td>\n",
       "      <td>3877.461439</td>\n",
       "      <td>2228.147952</td>\n",
       "      <td>0.232985</td>\n",
       "      <td>0.311113</td>\n",
       "      <td>1.531590e-07</td>\n",
       "      <td>26.447679</td>\n",
       "      <td>129.199219</td>\n",
       "      <td>...</td>\n",
       "      <td>-5.636770</td>\n",
       "      <td>-12.078487</td>\n",
       "      <td>1.692546</td>\n",
       "      <td>-6.005674</td>\n",
       "      <td>1.502304</td>\n",
       "      <td>-0.415201</td>\n",
       "      <td>2.389623</td>\n",
       "      <td>-3.135799</td>\n",
       "      <td>0.225479</td>\n",
       "      <td>rabindra</td>\n",
       "    </tr>\n",
       "  </tbody>\n",
       "</table>\n",
       "<p>5 rows × 31 columns</p>\n",
       "</div>"
      ],
      "text/plain": [
       "                                              file_name  zero_crossing  \\\n",
       "1737  Tumi Robe Nirobe, Artist - DWIJEN  MUKHOPADHYA...          78516   \n",
       "1738  TUMI SANDHYAR MEGHMALA  Srikanta Acharya  Rabi...         176887   \n",
       "1739  Utal Haowa Laglo Amar Gaaner Taranite  Sagar S...         133326   \n",
       "1740  venge mor ghorer chabi by anima roy.. album ro...         179932   \n",
       "1741   vora thak vora thak by anima roy ( 160kbps ).mp3         175244   \n",
       "\n",
       "      spectral_centroid  spectral_rolloff  spectral_bandwidth  \\\n",
       "1737         800.797115       1436.990088         1090.389766   \n",
       "1738        1734.844686       3464.133429         1954.831684   \n",
       "1739        1380.139172       2745.410904         1775.717428   \n",
       "1740        1961.435018       4141.554401         2324.507425   \n",
       "1741        1878.657768       3877.461439         2228.147952   \n",
       "\n",
       "      chroma_frequency      rmse         delta  melspectogram       tempo  \\\n",
       "1737          0.227325  0.108344  2.078194e-08       3.020211  117.453835   \n",
       "1738          0.271189  0.124934  5.785562e-08       4.098559  129.199219   \n",
       "1739          0.263462  0.111411  4.204189e-08       3.147722  143.554688   \n",
       "1740          0.261823  0.168673  3.245319e-07       7.674615  143.554688   \n",
       "1741          0.232985  0.311113  1.531590e-07      26.447679  129.199219   \n",
       "\n",
       "      ...    mfcc11     mfcc12     mfcc13    mfcc14    mfcc15    mfcc16  \\\n",
       "1737  ... -2.615630   2.119485 -12.506942 -1.148996  0.090582 -8.694072   \n",
       "1738  ...  1.693247  -4.076407  -2.017894 -7.419591 -0.488603 -8.690254   \n",
       "1739  ...  2.487961  -3.434017  -6.099467 -6.008315 -7.483330 -2.908477   \n",
       "1740  ...  1.192605 -13.142963   0.281834 -5.981567 -1.066383  0.677886   \n",
       "1741  ... -5.636770 -12.078487   1.692546 -6.005674  1.502304 -0.415201   \n",
       "\n",
       "        mfcc17    mfcc18    mfcc19     label  \n",
       "1737 -6.597594  2.925687 -6.154576  rabindra  \n",
       "1738 -7.090489 -6.530357 -5.593533  rabindra  \n",
       "1739  0.783345 -3.394053 -3.157621  rabindra  \n",
       "1740  0.803132 -3.304548  4.309490  rabindra  \n",
       "1741  2.389623 -3.135799  0.225479  rabindra  \n",
       "\n",
       "[5 rows x 31 columns]"
      ]
     },
     "execution_count": 604,
     "metadata": {},
     "output_type": "execute_result"
    }
   ],
   "source": [
    "data.tail()"
   ]
  },
  {
   "cell_type": "code",
   "execution_count": 605,
   "metadata": {},
   "outputs": [],
   "source": [
    "X = data.iloc[:,:-1]"
   ]
  },
  {
   "cell_type": "code",
   "execution_count": 606,
   "metadata": {},
   "outputs": [
    {
     "data": {
      "text/html": [
       "<div>\n",
       "<style scoped>\n",
       "    .dataframe tbody tr th:only-of-type {\n",
       "        vertical-align: middle;\n",
       "    }\n",
       "\n",
       "    .dataframe tbody tr th {\n",
       "        vertical-align: top;\n",
       "    }\n",
       "\n",
       "    .dataframe thead th {\n",
       "        text-align: right;\n",
       "    }\n",
       "</style>\n",
       "<table border=\"1\" class=\"dataframe\">\n",
       "  <thead>\n",
       "    <tr style=\"text-align: right;\">\n",
       "      <th></th>\n",
       "      <th>file_name</th>\n",
       "      <th>zero_crossing</th>\n",
       "      <th>spectral_centroid</th>\n",
       "      <th>spectral_rolloff</th>\n",
       "      <th>spectral_bandwidth</th>\n",
       "      <th>chroma_frequency</th>\n",
       "      <th>rmse</th>\n",
       "      <th>delta</th>\n",
       "      <th>melspectogram</th>\n",
       "      <th>tempo</th>\n",
       "      <th>...</th>\n",
       "      <th>mfcc10</th>\n",
       "      <th>mfcc11</th>\n",
       "      <th>mfcc12</th>\n",
       "      <th>mfcc13</th>\n",
       "      <th>mfcc14</th>\n",
       "      <th>mfcc15</th>\n",
       "      <th>mfcc16</th>\n",
       "      <th>mfcc17</th>\n",
       "      <th>mfcc18</th>\n",
       "      <th>mfcc19</th>\n",
       "    </tr>\n",
       "  </thead>\n",
       "  <tbody>\n",
       "    <tr>\n",
       "      <th>0</th>\n",
       "      <td>(Tomake Paowa)  - Hridoy Khan &amp; Tasnim Anika F...</td>\n",
       "      <td>125424</td>\n",
       "      <td>1770.889394</td>\n",
       "      <td>3893.575094</td>\n",
       "      <td>2414.810615</td>\n",
       "      <td>0.315795</td>\n",
       "      <td>0.222552</td>\n",
       "      <td>-7.661680e-08</td>\n",
       "      <td>12.977708</td>\n",
       "      <td>172.265625</td>\n",
       "      <td>...</td>\n",
       "      <td>-5.300817</td>\n",
       "      <td>3.164991</td>\n",
       "      <td>-3.867179</td>\n",
       "      <td>5.325016</td>\n",
       "      <td>1.176338</td>\n",
       "      <td>-0.788755</td>\n",
       "      <td>-6.343288</td>\n",
       "      <td>2.488148</td>\n",
       "      <td>0.047027</td>\n",
       "      <td>7.211918</td>\n",
       "    </tr>\n",
       "    <tr>\n",
       "      <th>1</th>\n",
       "      <td>008. Jai Bole Jete Naire - Jewel (1980).mp3</td>\n",
       "      <td>308658</td>\n",
       "      <td>2549.349989</td>\n",
       "      <td>4986.658880</td>\n",
       "      <td>2193.617981</td>\n",
       "      <td>0.310113</td>\n",
       "      <td>0.156930</td>\n",
       "      <td>8.893313e-08</td>\n",
       "      <td>5.118271</td>\n",
       "      <td>143.554688</td>\n",
       "      <td>...</td>\n",
       "      <td>-11.745541</td>\n",
       "      <td>8.358729</td>\n",
       "      <td>-12.691169</td>\n",
       "      <td>11.393858</td>\n",
       "      <td>-6.176215</td>\n",
       "      <td>9.947330</td>\n",
       "      <td>-6.987708</td>\n",
       "      <td>7.935905</td>\n",
       "      <td>-9.452455</td>\n",
       "      <td>1.582699</td>\n",
       "    </tr>\n",
       "    <tr>\n",
       "      <th>2</th>\n",
       "      <td>03. Doob   Habib  ft Mousumi &amp; Mosharraf Karim...</td>\n",
       "      <td>158328</td>\n",
       "      <td>2013.718396</td>\n",
       "      <td>4573.595848</td>\n",
       "      <td>2515.994413</td>\n",
       "      <td>0.301663</td>\n",
       "      <td>0.093736</td>\n",
       "      <td>1.340824e-07</td>\n",
       "      <td>2.497263</td>\n",
       "      <td>103.359375</td>\n",
       "      <td>...</td>\n",
       "      <td>-8.932615</td>\n",
       "      <td>-3.361615</td>\n",
       "      <td>-6.730814</td>\n",
       "      <td>0.184162</td>\n",
       "      <td>-4.139533</td>\n",
       "      <td>4.409801</td>\n",
       "      <td>3.190835</td>\n",
       "      <td>4.862090</td>\n",
       "      <td>-6.406590</td>\n",
       "      <td>-0.705287</td>\n",
       "    </tr>\n",
       "    <tr>\n",
       "      <th>3</th>\n",
       "      <td>034. Mukhe Bolo Valobashi by Muni Kis.mp3</td>\n",
       "      <td>136711</td>\n",
       "      <td>1827.495303</td>\n",
       "      <td>4215.075766</td>\n",
       "      <td>2284.762196</td>\n",
       "      <td>0.349875</td>\n",
       "      <td>0.039457</td>\n",
       "      <td>-1.908483e-08</td>\n",
       "      <td>0.421975</td>\n",
       "      <td>135.999178</td>\n",
       "      <td>...</td>\n",
       "      <td>5.370642</td>\n",
       "      <td>8.563364</td>\n",
       "      <td>-7.990767</td>\n",
       "      <td>3.611352</td>\n",
       "      <td>-4.211268</td>\n",
       "      <td>5.490051</td>\n",
       "      <td>-7.556331</td>\n",
       "      <td>1.124302</td>\n",
       "      <td>-4.306443</td>\n",
       "      <td>0.957663</td>\n",
       "    </tr>\n",
       "    <tr>\n",
       "      <th>4</th>\n",
       "      <td>05. Abar elo Je Shondha by Happy Akhand.mp3</td>\n",
       "      <td>238711</td>\n",
       "      <td>1715.832235</td>\n",
       "      <td>3303.949296</td>\n",
       "      <td>1587.488472</td>\n",
       "      <td>0.300132</td>\n",
       "      <td>0.142870</td>\n",
       "      <td>-5.355904e-08</td>\n",
       "      <td>4.311442</td>\n",
       "      <td>92.285156</td>\n",
       "      <td>...</td>\n",
       "      <td>-7.285621</td>\n",
       "      <td>-1.230101</td>\n",
       "      <td>-5.323076</td>\n",
       "      <td>-3.194775</td>\n",
       "      <td>-7.124155</td>\n",
       "      <td>-4.431173</td>\n",
       "      <td>-4.797250</td>\n",
       "      <td>-4.686700</td>\n",
       "      <td>-4.393025</td>\n",
       "      <td>-1.749295</td>\n",
       "    </tr>\n",
       "  </tbody>\n",
       "</table>\n",
       "<p>5 rows × 30 columns</p>\n",
       "</div>"
      ],
      "text/plain": [
       "                                           file_name  zero_crossing  \\\n",
       "0  (Tomake Paowa)  - Hridoy Khan & Tasnim Anika F...         125424   \n",
       "1        008. Jai Bole Jete Naire - Jewel (1980).mp3         308658   \n",
       "2  03. Doob   Habib  ft Mousumi & Mosharraf Karim...         158328   \n",
       "3          034. Mukhe Bolo Valobashi by Muni Kis.mp3         136711   \n",
       "4        05. Abar elo Je Shondha by Happy Akhand.mp3         238711   \n",
       "\n",
       "   spectral_centroid  spectral_rolloff  spectral_bandwidth  chroma_frequency  \\\n",
       "0        1770.889394       3893.575094         2414.810615          0.315795   \n",
       "1        2549.349989       4986.658880         2193.617981          0.310113   \n",
       "2        2013.718396       4573.595848         2515.994413          0.301663   \n",
       "3        1827.495303       4215.075766         2284.762196          0.349875   \n",
       "4        1715.832235       3303.949296         1587.488472          0.300132   \n",
       "\n",
       "       rmse         delta  melspectogram       tempo  ...     mfcc10  \\\n",
       "0  0.222552 -7.661680e-08      12.977708  172.265625  ...  -5.300817   \n",
       "1  0.156930  8.893313e-08       5.118271  143.554688  ... -11.745541   \n",
       "2  0.093736  1.340824e-07       2.497263  103.359375  ...  -8.932615   \n",
       "3  0.039457 -1.908483e-08       0.421975  135.999178  ...   5.370642   \n",
       "4  0.142870 -5.355904e-08       4.311442   92.285156  ...  -7.285621   \n",
       "\n",
       "     mfcc11     mfcc12     mfcc13    mfcc14    mfcc15    mfcc16    mfcc17  \\\n",
       "0  3.164991  -3.867179   5.325016  1.176338 -0.788755 -6.343288  2.488148   \n",
       "1  8.358729 -12.691169  11.393858 -6.176215  9.947330 -6.987708  7.935905   \n",
       "2 -3.361615  -6.730814   0.184162 -4.139533  4.409801  3.190835  4.862090   \n",
       "3  8.563364  -7.990767   3.611352 -4.211268  5.490051 -7.556331  1.124302   \n",
       "4 -1.230101  -5.323076  -3.194775 -7.124155 -4.431173 -4.797250 -4.686700   \n",
       "\n",
       "     mfcc18    mfcc19  \n",
       "0  0.047027  7.211918  \n",
       "1 -9.452455  1.582699  \n",
       "2 -6.406590 -0.705287  \n",
       "3 -4.306443  0.957663  \n",
       "4 -4.393025 -1.749295  \n",
       "\n",
       "[5 rows x 30 columns]"
      ]
     },
     "execution_count": 606,
     "metadata": {},
     "output_type": "execute_result"
    }
   ],
   "source": [
    "X.head()"
   ]
  },
  {
   "cell_type": "markdown",
   "metadata": {},
   "source": [
    "# Only for this dataset, delete otherwise (Weather AUS)\n",
    "\n",
    "X.drop('RISK_MM', axis=1, inplace=True)"
   ]
  },
  {
   "cell_type": "code",
   "execution_count": 607,
   "metadata": {},
   "outputs": [],
   "source": [
    "#X.drop('RISK_MM', axis=1, inplace=True)"
   ]
  },
  {
   "cell_type": "code",
   "execution_count": 608,
   "metadata": {},
   "outputs": [],
   "source": [
    "y = data.iloc[:,-1]"
   ]
  },
  {
   "cell_type": "code",
   "execution_count": 609,
   "metadata": {},
   "outputs": [
    {
     "data": {
      "text/plain": [
       "0    adhunik\n",
       "1    adhunik\n",
       "2    adhunik\n",
       "3    adhunik\n",
       "4    adhunik\n",
       "Name: label, dtype: object"
      ]
     },
     "execution_count": 609,
     "metadata": {},
     "output_type": "execute_result"
    }
   ],
   "source": [
    "y.head()"
   ]
  },
  {
   "cell_type": "markdown",
   "metadata": {},
   "source": [
    "# Handling missing data - Numeric type"
   ]
  },
  {
   "cell_type": "code",
   "execution_count": 610,
   "metadata": {},
   "outputs": [],
   "source": [
    "import numpy as np\n",
    "from sklearn.impute import SimpleImputer\n",
    "imp_mean = SimpleImputer(missing_values=np.nan, strategy='mean')"
   ]
  },
  {
   "cell_type": "code",
   "execution_count": 611,
   "metadata": {},
   "outputs": [],
   "source": [
    "#X.dtypes"
   ]
  },
  {
   "cell_type": "code",
   "execution_count": 612,
   "metadata": {},
   "outputs": [],
   "source": [
    "numerical_cols = list(np.where((X.dtypes == np.int64) | (X.dtypes == np.float64))[0])"
   ]
  },
  {
   "cell_type": "code",
   "execution_count": 613,
   "metadata": {},
   "outputs": [
    {
     "data": {
      "text/plain": [
       "SimpleImputer()"
      ]
     },
     "execution_count": 613,
     "metadata": {},
     "output_type": "execute_result"
    }
   ],
   "source": [
    "imp_mean.fit(X.iloc[:,numerical_cols])"
   ]
  },
  {
   "cell_type": "code",
   "execution_count": 614,
   "metadata": {},
   "outputs": [],
   "source": [
    "X.iloc[:,numerical_cols] = imp_mean.transform(X.iloc[:,numerical_cols])"
   ]
  },
  {
   "cell_type": "markdown",
   "metadata": {},
   "source": [
    "### Handling missing string data"
   ]
  },
  {
   "cell_type": "code",
   "execution_count": 615,
   "metadata": {},
   "outputs": [],
   "source": [
    "string_cols = list(np.where((X.dtypes == np.object))[0])"
   ]
  },
  {
   "cell_type": "code",
   "execution_count": 616,
   "metadata": {},
   "outputs": [],
   "source": [
    "imp_mean = SimpleImputer(missing_values=np.nan, strategy='most_frequent')"
   ]
  },
  {
   "cell_type": "code",
   "execution_count": 617,
   "metadata": {},
   "outputs": [
    {
     "data": {
      "text/plain": [
       "SimpleImputer(strategy='most_frequent')"
      ]
     },
     "execution_count": 617,
     "metadata": {},
     "output_type": "execute_result"
    }
   ],
   "source": [
    "imp_mean.fit(X.iloc[:,string_cols])"
   ]
  },
  {
   "cell_type": "code",
   "execution_count": 618,
   "metadata": {},
   "outputs": [],
   "source": [
    "X.iloc[:,string_cols] = imp_mean.transform(X.iloc[:,string_cols])"
   ]
  },
  {
   "cell_type": "markdown",
   "metadata": {},
   "source": [
    "# One Hot encoder method"
   ]
  },
  {
   "cell_type": "code",
   "execution_count": 619,
   "metadata": {},
   "outputs": [],
   "source": [
    "def OneHotEncoderMethod(indices, data):\n",
    "    from sklearn.compose import ColumnTransformer\n",
    "    from sklearn.preprocessing import OneHotEncoder\n",
    "    columnTransformer = ColumnTransformer([('encoder', OneHotEncoder(),indices )], remainder='passthrough')\n",
    "    return columnTransformer.fit_transform(data)"
   ]
  },
  {
   "cell_type": "markdown",
   "metadata": {},
   "source": [
    "# Label encoding method"
   ]
  },
  {
   "cell_type": "code",
   "execution_count": 620,
   "metadata": {},
   "outputs": [],
   "source": [
    "def LabelEncoderMethod(series):\n",
    "    from sklearn import preprocessing\n",
    "    le = preprocessing.LabelEncoder()\n",
    "    le.fit(series)\n",
    "    #print('Actual labels',le.classes_)\n",
    "    #print('Encoding values',le.transform(pd.unique(series)))\n",
    "    return le.transform(series) "
   ]
  },
  {
   "cell_type": "code",
   "execution_count": null,
   "metadata": {},
   "outputs": [],
   "source": []
  },
  {
   "cell_type": "markdown",
   "metadata": {},
   "source": [
    "# Label encoding target feature"
   ]
  },
  {
   "cell_type": "code",
   "execution_count": 621,
   "metadata": {},
   "outputs": [],
   "source": [
    "y = LabelEncoderMethod(y)"
   ]
  },
  {
   "cell_type": "markdown",
   "metadata": {},
   "source": [
    "# Encoding selection for X"
   ]
  },
  {
   "cell_type": "code",
   "execution_count": 622,
   "metadata": {},
   "outputs": [],
   "source": [
    "def EncodingSelection(X, threshold=10):\n",
    "    # Step 01 : Select the string col\n",
    "    string_cols = list(np.where((X.dtypes == np.object))[0])\n",
    "    one_hot_encoding_indices = []\n",
    "    \n",
    "    # Step 02: The number of categoty is 2 and more than threshold, label encode\n",
    "    for col in string_cols:\n",
    "        lenght = len(pd.unique(X[X.columns[col]]))\n",
    "        if lenght == 2 or lenght > threshold:\n",
    "            X[X.columns[col]] = LabelEncoderMethod(X[X.columns[col]])\n",
    "        else:\n",
    "            one_hot_encoding_indices.append(col)\n",
    "            \n",
    "    # Step 03: One hot encode otherwise \n",
    "    X = OneHotEncoderMethod(one_hot_encoding_indices, X)\n",
    "    return X"
   ]
  },
  {
   "cell_type": "code",
   "execution_count": 623,
   "metadata": {},
   "outputs": [],
   "source": [
    "X = EncodingSelection(X)"
   ]
  },
  {
   "cell_type": "code",
   "execution_count": 624,
   "metadata": {},
   "outputs": [
    {
     "data": {
      "text/plain": [
       "(1742, 30)"
      ]
     },
     "execution_count": 624,
     "metadata": {},
     "output_type": "execute_result"
    }
   ],
   "source": [
    "X.shape"
   ]
  },
  {
   "cell_type": "markdown",
   "metadata": {},
   "source": [
    "# Feature selection"
   ]
  },
  {
   "cell_type": "code",
   "execution_count": 625,
   "metadata": {},
   "outputs": [],
   "source": [
    "from sklearn.feature_selection import SelectKBest, chi2"
   ]
  },
  {
   "cell_type": "code",
   "execution_count": 626,
   "metadata": {},
   "outputs": [],
   "source": [
    "kbest = SelectKBest(score_func=chi2, k=10)"
   ]
  },
  {
   "cell_type": "code",
   "execution_count": 627,
   "metadata": {},
   "outputs": [],
   "source": [
    "from sklearn import preprocessing\n",
    "MMS = preprocessing.MinMaxScaler()"
   ]
  },
  {
   "cell_type": "code",
   "execution_count": 628,
   "metadata": {},
   "outputs": [],
   "source": [
    "K_features = 10"
   ]
  },
  {
   "cell_type": "code",
   "execution_count": 629,
   "metadata": {},
   "outputs": [],
   "source": [
    "x_temp = MMS.fit_transform(X)"
   ]
  },
  {
   "cell_type": "code",
   "execution_count": 630,
   "metadata": {},
   "outputs": [],
   "source": [
    "x_temp = kbest.fit(x_temp,y)"
   ]
  },
  {
   "cell_type": "code",
   "execution_count": 631,
   "metadata": {},
   "outputs": [],
   "source": [
    "best_features = np.argsort(x_temp.scores_)[-K_features:]"
   ]
  },
  {
   "cell_type": "code",
   "execution_count": 632,
   "metadata": {},
   "outputs": [
    {
     "data": {
      "text/plain": [
       "array([19, 12, 17,  1,  5,  2, 11,  3,  4,  0], dtype=int64)"
      ]
     },
     "execution_count": 632,
     "metadata": {},
     "output_type": "execute_result"
    }
   ],
   "source": [
    "best_features"
   ]
  },
  {
   "cell_type": "code",
   "execution_count": 633,
   "metadata": {},
   "outputs": [],
   "source": [
    "features_to_delete = best_features = np.argsort(x_temp.scores_)[:-K_features]"
   ]
  },
  {
   "cell_type": "code",
   "execution_count": 634,
   "metadata": {},
   "outputs": [],
   "source": [
    "X = np.delete(X, features_to_delete, axis=1)"
   ]
  },
  {
   "cell_type": "code",
   "execution_count": 635,
   "metadata": {},
   "outputs": [
    {
     "data": {
      "text/plain": [
       "(1742, 10)"
      ]
     },
     "execution_count": 635,
     "metadata": {},
     "output_type": "execute_result"
    }
   ],
   "source": [
    "X.shape"
   ]
  },
  {
   "cell_type": "code",
   "execution_count": 636,
   "metadata": {},
   "outputs": [],
   "source": [
    "del x_temp"
   ]
  },
  {
   "cell_type": "markdown",
   "metadata": {},
   "source": [
    "# Train test split"
   ]
  },
  {
   "cell_type": "code",
   "execution_count": 637,
   "metadata": {},
   "outputs": [],
   "source": [
    "import numpy as np\n",
    "from sklearn.model_selection import train_test_split"
   ]
  },
  {
   "cell_type": "code",
   "execution_count": 638,
   "metadata": {},
   "outputs": [],
   "source": [
    "X_train, X_test, y_train, y_test = train_test_split(X, y, test_size=0.20, random_state=1)"
   ]
  },
  {
   "cell_type": "code",
   "execution_count": 639,
   "metadata": {},
   "outputs": [
    {
     "name": "stdout",
     "output_type": "stream",
     "text": [
      "(1393, 10)\n"
     ]
    }
   ],
   "source": [
    "print(X_train.shape)"
   ]
  },
  {
   "cell_type": "markdown",
   "metadata": {},
   "source": [
    "# Feature scaling"
   ]
  },
  {
   "cell_type": "markdown",
   "metadata": {},
   "source": [
    "### Standardization: (X - mean(X)) / std(X)"
   ]
  },
  {
   "cell_type": "markdown",
   "metadata": {},
   "source": [
    "### Normalization = (x - min(x)) / (max(x) - min(x))"
   ]
  },
  {
   "cell_type": "code",
   "execution_count": 640,
   "metadata": {},
   "outputs": [],
   "source": [
    "from sklearn import preprocessing"
   ]
  },
  {
   "cell_type": "code",
   "execution_count": 641,
   "metadata": {},
   "outputs": [],
   "source": [
    "sc = preprocessing.StandardScaler(with_mean=False)"
   ]
  },
  {
   "cell_type": "code",
   "execution_count": 642,
   "metadata": {},
   "outputs": [
    {
     "data": {
      "text/plain": [
       "StandardScaler(with_mean=False)"
      ]
     },
     "execution_count": 642,
     "metadata": {},
     "output_type": "execute_result"
    }
   ],
   "source": [
    "sc.fit(X_train)"
   ]
  },
  {
   "cell_type": "code",
   "execution_count": 643,
   "metadata": {},
   "outputs": [],
   "source": [
    "X_train = sc.transform(X_train)"
   ]
  },
  {
   "cell_type": "code",
   "execution_count": 644,
   "metadata": {},
   "outputs": [
    {
     "name": "stdout",
     "output_type": "stream",
     "text": [
      "(1393, 10)\n"
     ]
    }
   ],
   "source": [
    "print(X_train.shape)"
   ]
  },
  {
   "cell_type": "code",
   "execution_count": 645,
   "metadata": {},
   "outputs": [],
   "source": [
    "X_test = sc.transform(X_test)"
   ]
  },
  {
   "cell_type": "code",
   "execution_count": 646,
   "metadata": {},
   "outputs": [
    {
     "name": "stdout",
     "output_type": "stream",
     "text": [
      "(349, 10)\n"
     ]
    }
   ],
   "source": [
    "print(X_test.shape)"
   ]
  },
  {
   "cell_type": "markdown",
   "metadata": {},
   "source": [
    "#### The data is ready!!"
   ]
  },
  {
   "cell_type": "code",
   "execution_count": 647,
   "metadata": {},
   "outputs": [],
   "source": [
    "from sklearn.metrics import accuracy_score"
   ]
  },
  {
   "cell_type": "markdown",
   "metadata": {},
   "source": [
    "# Building KNN model"
   ]
  },
  {
   "cell_type": "code",
   "execution_count": 648,
   "metadata": {},
   "outputs": [
    {
     "data": {
      "text/plain": [
       "0.6475644699140402"
      ]
     },
     "execution_count": 648,
     "metadata": {},
     "output_type": "execute_result"
    }
   ],
   "source": [
    "from sklearn.neighbors import KNeighborsClassifier\n",
    "knnClassifier = KNeighborsClassifier(n_neighbors=3)\n",
    "knnClassifier.fit(X_train,y_train)\n",
    "y_pred = knnClassifier.predict(X_test)\n",
    "accuracy_score(y_pred,y_test)"
   ]
  },
  {
   "cell_type": "markdown",
   "metadata": {},
   "source": [
    "# Building Logistic regression model"
   ]
  },
  {
   "cell_type": "code",
   "execution_count": 649,
   "metadata": {},
   "outputs": [
    {
     "name": "stderr",
     "output_type": "stream",
     "text": [
      "C:\\Users\\chaan\\anaconda3\\lib\\site-packages\\sklearn\\linear_model\\_logistic.py:762: ConvergenceWarning: lbfgs failed to converge (status=1):\n",
      "STOP: TOTAL NO. of ITERATIONS REACHED LIMIT.\n",
      "\n",
      "Increase the number of iterations (max_iter) or scale the data as shown in:\n",
      "    https://scikit-learn.org/stable/modules/preprocessing.html\n",
      "Please also refer to the documentation for alternative solver options:\n",
      "    https://scikit-learn.org/stable/modules/linear_model.html#logistic-regression\n",
      "  n_iter_i = _check_optimize_result(\n"
     ]
    },
    {
     "data": {
      "text/plain": [
       "0.6303724928366762"
      ]
     },
     "execution_count": 649,
     "metadata": {},
     "output_type": "execute_result"
    }
   ],
   "source": [
    "from sklearn.linear_model import LogisticRegression\n",
    "LRM = LogisticRegression(random_state=0,max_iter=200)\n",
    "LRM.fit(X_train,y_train)\n",
    "y_pred = LRM.predict(X_test)\n",
    "accuracy_score(y_pred,y_test)"
   ]
  },
  {
   "cell_type": "code",
   "execution_count": null,
   "metadata": {},
   "outputs": [],
   "source": []
  },
  {
   "cell_type": "code",
   "execution_count": null,
   "metadata": {},
   "outputs": [],
   "source": []
  },
  {
   "cell_type": "markdown",
   "metadata": {},
   "source": [
    "# Cumulative Accuracy Profile (CAP) curve - Random model"
   ]
  },
  {
   "cell_type": "code",
   "execution_count": 650,
   "metadata": {},
   "outputs": [
    {
     "data": {
      "text/plain": [
       "<matplotlib.legend.Legend at 0x1cbf7d8d370>"
      ]
     },
     "execution_count": 650,
     "metadata": {},
     "output_type": "execute_result"
    },
    {
     "data": {
      "image/png": "[encoded data removed]",
      "text/plain": [
       "<Figure size 720x432 with 1 Axes>"
      ]
     },
     "metadata": {
      "needs_background": "light"
     },
     "output_type": "display_data"
    }
   ],
   "source": [
    "import matplotlib.pyplot as plt\n",
    "# length of the test data \n",
    "total = len(y_test) \n",
    "  \n",
    "# Counting '1' labels in test data \n",
    "sum_count = np.sum(y_test) \n",
    "    \n",
    "plt.figure(figsize = (10, 6)) \n",
    "  \n",
    "# x-axis: Total sample size  \n",
    "# y-axis: Total positive prediction\n",
    "  \n",
    "plt.plot([0, total], [0, sum_count], c = 'blue',  linestyle = '--', label = 'Random Model') \n",
    "plt.legend() "
   ]
  },
  {
   "cell_type": "code",
   "execution_count": null,
   "metadata": {},
   "outputs": [],
   "source": []
  },
  {
   "cell_type": "code",
   "execution_count": 651,
   "metadata": {},
   "outputs": [],
   "source": [
    "\n",
    "pred = LRM.predict(X_test)\n",
    "x_values = np.arange(0, total + 1)"
   ]
  },
  {
   "cell_type": "code",
   "execution_count": 652,
   "metadata": {},
   "outputs": [],
   "source": [
    "_ = sorted(zip(pred, y_test), reverse = True)"
   ]
  },
  {
   "cell_type": "code",
   "execution_count": 653,
   "metadata": {},
   "outputs": [],
   "source": [
    "_cap = []\n",
    "for p,o in _:\n",
    "    if p == o:\n",
    "        _cap.append(p)\n",
    "    else:\n",
    "        _cap.append(o)\n",
    "        \n",
    "y_values = np.append([0], np.cumsum(_cap))"
   ]
  },
  {
   "cell_type": "code",
   "execution_count": 654,
   "metadata": {},
   "outputs": [
    {
     "data": {
      "text/plain": [
       "<matplotlib.legend.Legend at 0x1cbf9ed16a0>"
      ]
     },
     "execution_count": 654,
     "metadata": {},
     "output_type": "execute_result"
    },
    {
     "data": {
      "image/png": "[encoded data removed]",
      "text/plain": [
       "<Figure size 720x432 with 1 Axes>"
      ]
     },
     "metadata": {
      "needs_background": "light"
     },
     "output_type": "display_data"
    }
   ],
   "source": [
    "plt.figure(figsize = (10, 6)) \n",
    "plt.plot(x_values, y_values, c = 'blue', linewidth = 3, label = 'LRM')\n",
    "plt.plot([0, total], [0, sum_count],  linestyle = '--', label = 'Random Model') \n",
    "\n",
    "# Plot information\n",
    "plt.xlabel('Total observations', fontsize = 16)\n",
    "plt.ylabel('CAP values', fontsize = 16)\n",
    "plt.title('Cumulative Accuracy Profile', fontsize = 16)\n",
    "plt.legend(loc = 'lower right', fontsize = 16)"
   ]
  },
  {
   "cell_type": "code",
   "execution_count": null,
   "metadata": {},
   "outputs": [],
   "source": []
  },
  {
   "cell_type": "code",
   "execution_count": null,
   "metadata": {},
   "outputs": [],
   "source": []
  },
  {
   "cell_type": "code",
   "execution_count": null,
   "metadata": {},
   "outputs": [],
   "source": []
  },
  {
   "cell_type": "code",
   "execution_count": null,
   "metadata": {},
   "outputs": [],
   "source": []
  },
  {
   "cell_type": "code",
   "execution_count": null,
   "metadata": {},
   "outputs": [],
   "source": []
  },
  {
   "cell_type": "code",
   "execution_count": null,
   "metadata": {},
   "outputs": [],
   "source": [
    "\n"
   ]
  },
  {
   "cell_type": "markdown",
   "metadata": {},
   "source": [
    "# Building GaussianNB model"
   ]
  },
  {
   "cell_type": "code",
   "execution_count": 336,
   "metadata": {},
   "outputs": [
    {
     "data": {
      "text/plain": [
       "0.831"
      ]
     },
     "execution_count": 336,
     "metadata": {},
     "output_type": "execute_result"
    }
   ],
   "source": [
    "from sklearn.naive_bayes import GaussianNB\n",
    "model_GNB = GaussianNB()\n",
    "model_GNB.fit(X_train,y_train)\n",
    "y_pred = model_GNB.predict(X_test)\n",
    "accuracy_score(y_pred,y_test)"
   ]
  },
  {
   "cell_type": "markdown",
   "metadata": {},
   "source": [
    "# Building SVM (SVC) model"
   ]
  },
  {
   "cell_type": "code",
   "execution_count": 337,
   "metadata": {},
   "outputs": [
    {
     "data": {
      "text/plain": [
       "0.8765"
      ]
     },
     "execution_count": 337,
     "metadata": {},
     "output_type": "execute_result"
    }
   ],
   "source": [
    "from sklearn.svm import SVC\n",
    "model_SVC = SVC()\n",
    "model_SVC.fit(X_train,y_train)\n",
    "y_pred = model_SVC.predict(X_test)\n",
    "accuracy_score(y_pred,y_test)"
   ]
  },
  {
   "cell_type": "markdown",
   "metadata": {},
   "source": [
    "# Building Decision tree model"
   ]
  },
  {
   "cell_type": "code",
   "execution_count": 338,
   "metadata": {},
   "outputs": [
    {
     "data": {
      "text/plain": [
       "0.8175"
      ]
     },
     "execution_count": 338,
     "metadata": {},
     "output_type": "execute_result"
    }
   ],
   "source": [
    "from sklearn.tree import DecisionTreeClassifier\n",
    "model_DTC = DecisionTreeClassifier()\n",
    "model_DTC.fit(X_train,y_train)\n",
    "y_pred = model_DTC.predict(X_test)\n",
    "accuracy_score(y_pred,y_test)"
   ]
  },
  {
   "cell_type": "markdown",
   "metadata": {},
   "source": [
    "# Building Random Forest model"
   ]
  },
  {
   "cell_type": "code",
   "execution_count": 339,
   "metadata": {},
   "outputs": [
    {
     "data": {
      "text/plain": [
       "0.8725"
      ]
     },
     "execution_count": 339,
     "metadata": {},
     "output_type": "execute_result"
    }
   ],
   "source": [
    "from sklearn.ensemble import RandomForestClassifier\n",
    "model_RFC = RandomForestClassifier(n_estimators = 500, max_depth= 5)\n",
    "model_RFC.fit(X_train,y_train)\n",
    "y_pred = model_RFC.predict(X_test)\n",
    "accuracy_score(y_pred,y_test)"
   ]
  },
  {
   "cell_type": "markdown",
   "metadata": {},
   "source": [
    "# Building ADABoost model"
   ]
  },
  {
   "cell_type": "code",
   "execution_count": 340,
   "metadata": {},
   "outputs": [
    {
     "data": {
      "text/plain": [
       "0.8725"
      ]
     },
     "execution_count": 340,
     "metadata": {},
     "output_type": "execute_result"
    }
   ],
   "source": [
    "from sklearn.ensemble import AdaBoostClassifier\n",
    "model_ABC = AdaBoostClassifier()\n",
    "model_ABC.fit(X_train,y_train)\n",
    "y_pred = model_ABC.predict(X_test)\n",
    "accuracy_score(y_pred,y_test)"
   ]
  },
  {
   "cell_type": "markdown",
   "metadata": {},
   "source": [
    "# Building XGBoost model"
   ]
  },
  {
   "cell_type": "code",
   "execution_count": 341,
   "metadata": {},
   "outputs": [
    {
     "name": "stderr",
     "output_type": "stream",
     "text": [
      "C:\\Users\\chaan\\anaconda3\\lib\\site-packages\\xgboost\\sklearn.py:888: UserWarning: The use of label encoder in XGBClassifier is deprecated and will be removed in a future release. To remove this warning, do the following: 1) Pass option use_label_encoder=False when constructing XGBClassifier object; and 2) Encode your labels (y) as integers starting with 0, i.e. 0, 1, 2, ..., [num_class - 1].\n",
      "  warnings.warn(label_encoder_deprecation_msg, UserWarning)\n"
     ]
    },
    {
     "name": "stdout",
     "output_type": "stream",
     "text": [
      "[01:30:55] WARNING: C:/Users/Administrator/workspace/xgboost-win64_release_1.3.0/src/learner.cc:1061: Starting in XGBoost 1.3.0, the default evaluation metric used with the objective 'binary:logistic' was changed from 'error' to 'logloss'. Explicitly set eval_metric if you'd like to restore the old behavior.\n"
     ]
    },
    {
     "data": {
      "text/plain": [
       "0.8715"
      ]
     },
     "execution_count": 341,
     "metadata": {},
     "output_type": "execute_result"
    }
   ],
   "source": [
    "import xgboost as xgb\n",
    "model_xgb = xgb.XGBClassifier()\n",
    "model_xgb.fit(X_train,y_train)\n",
    "y_pred = model_xgb.predict(X_test)\n",
    "accuracy_score(y_pred,y_test)"
   ]
  },
  {
   "cell_type": "code",
   "execution_count": 350,
   "metadata": {},
   "outputs": [],
   "source": [
    "def CAP_gen(model,X_test = X_test, y_test= y_test):\n",
    "    pred = model.predict(X_test)\n",
    "    \n",
    "    #pred = model.predict_proba(X_test)\n",
    "    #pred = pred[:, 1]\n",
    "    \n",
    "    _ = sorted(zip(pred, y_test), reverse = True)\n",
    "    _cap = []\n",
    "    for p,o in _:\n",
    "        if p == o:\n",
    "            _cap.append(p)\n",
    "        else:\n",
    "            _cap.append(o)\n",
    "    y_values = np.append([0], np.cumsum(_cap))\n",
    "    x_values = np.arange(0, len(y_test) + 1)\n",
    "    return (x_values, y_values)"
   ]
  },
  {
   "cell_type": "code",
   "execution_count": 351,
   "metadata": {},
   "outputs": [],
   "source": [
    "# Classifier object names\n",
    "\n",
    "# knnClassifier\n",
    "# LRM\n",
    "# model_GNB\n",
    "# model_SVC\n",
    "# model_DTC\n",
    "# model_RFC\n",
    "# model_ABC\n",
    "# model_xgb\n"
   ]
  },
  {
   "cell_type": "code",
   "execution_count": null,
   "metadata": {},
   "outputs": [],
   "source": []
  },
  {
   "cell_type": "code",
   "execution_count": 352,
   "metadata": {},
   "outputs": [
    {
     "data": {
      "text/plain": [
       "<matplotlib.legend.Legend at 0x1cbf7d5ccd0>"
      ]
     },
     "execution_count": 352,
     "metadata": {},
     "output_type": "execute_result"
    },
    {
     "data": {
      "image/png": "[encoded data removed]",
      "text/plain": [
       "<Figure size 720x432 with 1 Axes>"
      ]
     },
     "metadata": {
      "needs_background": "light"
     },
     "output_type": "display_data"
    }
   ],
   "source": [
    "plt.figure(figsize = (10, 6)) \n",
    "\n",
    "_x,_y = CAP_gen(model_GNB)\n",
    "plt.plot(_x, _y, linewidth = 3, label = 'model_GNB')\n",
    "\n",
    "\n",
    "_x,_y = CAP_gen(model_xgb)\n",
    "plt.plot(_x, _y, linewidth = 3, label = 'model_xgb')\n",
    "\n",
    "\n",
    "_x,_y = CAP_gen(model_ABC)\n",
    "plt.plot(_x, _y, linewidth = 3, label = 'model_ABC')\n",
    "\n",
    "\n",
    "plt.plot([0, total], [0, sum_count],  linestyle = '--', label = 'Random Model') \n",
    "\n",
    "# Plot information\n",
    "plt.xlabel('Total observations', fontsize = 16)\n",
    "plt.ylabel('CAP values', fontsize = 16)\n",
    "plt.title('Cumulative Accuracy Profile', fontsize = 16)\n",
    "plt.legend(loc = 'lower right', fontsize = 16)"
   ]
  },
  {
   "cell_type": "code",
   "execution_count": null,
   "metadata": {},
   "outputs": [],
   "source": []
  },
  {
   "cell_type": "code",
   "execution_count": null,
   "metadata": {},
   "outputs": [],
   "source": []
  }
 ],
 "metadata": {
  "kernelspec": {
   "display_name": "Python 3",
   "language": "python",
   "name": "python3"
  },
  "language_info": {
   "codemirror_mode": {
    "name": "ipython",
    "version": 3
   },
   "file_extension": ".py",
   "mimetype": "text/x-python",
   "name": "python",
   "nbconvert_exporter": "python",
   "pygments_lexer": "ipython3",
   "version": "3.8.3"
  }
 },
 "nbformat": 4,
 "nbformat_minor": 4
}
